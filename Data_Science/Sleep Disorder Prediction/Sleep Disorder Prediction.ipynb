{
 "cells": [
  {
   "cell_type": "markdown",
   "metadata": {},
   "source": [
    "# Sleep Disorder Prediction"
   ]
  },
  {
   "cell_type": "markdown",
   "metadata": {},
   "source": [
    "### Aim of the project"
   ]
  },
  {
   "cell_type": "markdown",
   "metadata": {},
   "source": [
    "The aim of the project is to analyze the person's lifestyles and medical factors such as\n",
    "age of the person, BMI of the person, physical activity, sleep duration, blood pressure of the person and many more, to predict the sleep disorder and its type."
   ]
  },
  {
   "cell_type": "markdown",
   "metadata": {},
   "source": [
    "#### About the Dataset\n"
   ]
  },
  {
   "cell_type": "markdown",
   "metadata": {},
   "source": [
    "The Sleep Health and Lifestyle Dataset comprises 374 rows and 13 columns, covering a\n",
    "wide range of variables related to sleep and daily habits of peoples. It includes details such as\n",
    "gender, age, occupation, sleep duration, quality of sleep, physical activity level, stress\n",
    "levels, BMI category, blood pressure, heart rate, daily steps, and the presence or absence\n",
    "of sleep disorders."
   ]
  },
  {
   "cell_type": "markdown",
   "metadata": {},
   "source": [
    "##### Key Features of the Dataset:"
   ]
  },
  {
   "cell_type": "markdown",
   "metadata": {},
   "source": [
    "- _Comprehensive Sleep Metrics_: Explore sleep duration, quality, and factors influencing sleep patterns.\n",
    "- _Lifestyle Factors_: Analyze physical activity levels, stress levels, and BMI categories.\n",
    "- _Cardiovascular Health_: Examine blood pressure and heart rate measurements.\n",
    "- _Sleep Disorder Analysis_: Identify the occurrence of sleep disorders such as Insomnia and Sleep Apnea."
   ]
  },
  {
   "cell_type": "markdown",
   "metadata": {},
   "source": [
    "##### Data Dictionary"
   ]
  },
  {
   "cell_type": "markdown",
   "metadata": {},
   "source": [
    " | Column Name | Description |\n",
    " |-------------|-------------|\n",
    " | Person_ID   | Unique ID assigned to each person |\n",
    " | Gender      | The gender of the person <br >(Male/Female) |\n",
    " | Age         | Age of the person in years |\n",
    " | Occupation  | The occupation of the person |\n",
    " | Sleep_duration | The duration of sleep of the person in hours |\n",
    " | Quality_of_sleep | A subjective rating of the quality of sleep, <br> ranging from 1 to 10 |\n",
    " | Physical_activity | The level of physical activity of the person <br >(Low/Medium/High) |\n",
    " | Stress Level | A subjective rating of the stress level, <br> ranging from 1 to 10 |\n",
    " | BMI_category | The BMI category of the person <br> (Underweight/Normal/Overweight/Obesity) | \n",
    " | Blood_pressure | The blood pressure of the person in mmHg |\n",
    " | Heart_rate  | The heart rate of the person in beats per minute |\n",
    " | Daily Steps | The number of steps taken by the person per day |\n",
    " | Sleep_disorder | The presence or absence of a sleep disorder in the person <br> (None, Insomnia, Sleep Apnea) |"
   ]
  },
  {
   "cell_type": "markdown",
   "metadata": {},
   "source": [
    "###### Details about Sleep Disorder Column:"
   ]
  },
  {
   "cell_type": "markdown",
   "metadata": {},
   "source": [
    "- None: The individual does not exhibit any specific sleep disorder.\n",
    "- Insomnia: The individual experiences difficulty falling asleep or staying asleep,\n",
    "leading to inadequate or poor-quality sleep.\n",
    "- Sleep Apnea: The individual suffers from pauses in breathing during sleep, resulting\n",
    "in disrupted sleep patterns and potential health risks."
   ]
  },
  {
   "cell_type": "markdown",
   "metadata": {},
   "source": [
    "### Importing the required libraries"
   ]
  },
  {
   "cell_type": "code",
   "execution_count": 1,
   "metadata": {},
   "outputs": [],
   "source": [
    "import numpy as np\n",
    "import pandas as pd\n",
    "import matplotlib.pyplot as plt\n",
    "import seaborn as sns\n",
    "import plotly.express as px\n",
    "%matplotlib inline\n",
    "import warnings\n",
    "warnings.filterwarnings('ignore')"
   ]
  },
  {
   "cell_type": "markdown",
   "metadata": {},
   "source": [
    "### Uploading Dataset"
   ]
  },
  {
   "cell_type": "code",
   "execution_count": 2,
   "metadata": {},
   "outputs": [
    {
     "data": {
      "text/html": [
       "<div>\n",
       "<style scoped>\n",
       "    .dataframe tbody tr th:only-of-type {\n",
       "        vertical-align: middle;\n",
       "    }\n",
       "\n",
       "    .dataframe tbody tr th {\n",
       "        vertical-align: top;\n",
       "    }\n",
       "\n",
       "    .dataframe thead th {\n",
       "        text-align: right;\n",
       "    }\n",
       "</style>\n",
       "<table border=\"1\" class=\"dataframe\">\n",
       "  <thead>\n",
       "    <tr style=\"text-align: right;\">\n",
       "      <th></th>\n",
       "      <th>Person ID</th>\n",
       "      <th>Gender</th>\n",
       "      <th>Age</th>\n",
       "      <th>Occupation</th>\n",
       "      <th>Sleep Duration</th>\n",
       "      <th>Quality of Sleep</th>\n",
       "      <th>Physical Activity Level</th>\n",
       "      <th>Stress Level</th>\n",
       "      <th>BMI Category</th>\n",
       "      <th>Blood Pressure</th>\n",
       "      <th>Heart Rate</th>\n",
       "      <th>Daily Steps</th>\n",
       "      <th>Sleep Disorder</th>\n",
       "    </tr>\n",
       "  </thead>\n",
       "  <tbody>\n",
       "    <tr>\n",
       "      <th>0</th>\n",
       "      <td>1</td>\n",
       "      <td>Male</td>\n",
       "      <td>27</td>\n",
       "      <td>Software Engineer</td>\n",
       "      <td>6.1</td>\n",
       "      <td>6</td>\n",
       "      <td>42</td>\n",
       "      <td>6</td>\n",
       "      <td>Overweight</td>\n",
       "      <td>126/83</td>\n",
       "      <td>77</td>\n",
       "      <td>4200</td>\n",
       "      <td>None</td>\n",
       "    </tr>\n",
       "    <tr>\n",
       "      <th>1</th>\n",
       "      <td>2</td>\n",
       "      <td>Male</td>\n",
       "      <td>28</td>\n",
       "      <td>Doctor</td>\n",
       "      <td>6.2</td>\n",
       "      <td>6</td>\n",
       "      <td>60</td>\n",
       "      <td>8</td>\n",
       "      <td>Normal</td>\n",
       "      <td>125/80</td>\n",
       "      <td>75</td>\n",
       "      <td>10000</td>\n",
       "      <td>None</td>\n",
       "    </tr>\n",
       "    <tr>\n",
       "      <th>2</th>\n",
       "      <td>3</td>\n",
       "      <td>Male</td>\n",
       "      <td>28</td>\n",
       "      <td>Doctor</td>\n",
       "      <td>6.2</td>\n",
       "      <td>6</td>\n",
       "      <td>60</td>\n",
       "      <td>8</td>\n",
       "      <td>Normal</td>\n",
       "      <td>125/80</td>\n",
       "      <td>75</td>\n",
       "      <td>10000</td>\n",
       "      <td>None</td>\n",
       "    </tr>\n",
       "    <tr>\n",
       "      <th>3</th>\n",
       "      <td>4</td>\n",
       "      <td>Male</td>\n",
       "      <td>28</td>\n",
       "      <td>Sales Representative</td>\n",
       "      <td>5.9</td>\n",
       "      <td>4</td>\n",
       "      <td>30</td>\n",
       "      <td>8</td>\n",
       "      <td>Obese</td>\n",
       "      <td>140/90</td>\n",
       "      <td>85</td>\n",
       "      <td>3000</td>\n",
       "      <td>Sleep Apnea</td>\n",
       "    </tr>\n",
       "    <tr>\n",
       "      <th>4</th>\n",
       "      <td>5</td>\n",
       "      <td>Male</td>\n",
       "      <td>28</td>\n",
       "      <td>Sales Representative</td>\n",
       "      <td>5.9</td>\n",
       "      <td>4</td>\n",
       "      <td>30</td>\n",
       "      <td>8</td>\n",
       "      <td>Obese</td>\n",
       "      <td>140/90</td>\n",
       "      <td>85</td>\n",
       "      <td>3000</td>\n",
       "      <td>Sleep Apnea</td>\n",
       "    </tr>\n",
       "  </tbody>\n",
       "</table>\n",
       "</div>"
      ],
      "text/plain": [
       "   Person ID Gender  Age            Occupation  Sleep Duration  \\\n",
       "0          1   Male   27     Software Engineer             6.1   \n",
       "1          2   Male   28                Doctor             6.2   \n",
       "2          3   Male   28                Doctor             6.2   \n",
       "3          4   Male   28  Sales Representative             5.9   \n",
       "4          5   Male   28  Sales Representative             5.9   \n",
       "\n",
       "   Quality of Sleep  Physical Activity Level  Stress Level BMI Category  \\\n",
       "0                 6                       42             6   Overweight   \n",
       "1                 6                       60             8       Normal   \n",
       "2                 6                       60             8       Normal   \n",
       "3                 4                       30             8        Obese   \n",
       "4                 4                       30             8        Obese   \n",
       "\n",
       "  Blood Pressure  Heart Rate  Daily Steps Sleep Disorder  \n",
       "0         126/83          77         4200           None  \n",
       "1         125/80          75        10000           None  \n",
       "2         125/80          75        10000           None  \n",
       "3         140/90          85         3000    Sleep Apnea  \n",
       "4         140/90          85         3000    Sleep Apnea  "
      ]
     },
     "execution_count": 2,
     "metadata": {},
     "output_type": "execute_result"
    }
   ],
   "source": [
    "df = pd.read_csv('Sleep_health_and_lifestyle_dataset.csv')\n",
    "df.head()"
   ]
  },
  {
   "cell_type": "code",
   "execution_count": 3,
   "metadata": {},
   "outputs": [
    {
     "data": {
      "text/html": [
       "<div>\n",
       "<style scoped>\n",
       "    .dataframe tbody tr th:only-of-type {\n",
       "        vertical-align: middle;\n",
       "    }\n",
       "\n",
       "    .dataframe tbody tr th {\n",
       "        vertical-align: top;\n",
       "    }\n",
       "\n",
       "    .dataframe thead th {\n",
       "        text-align: right;\n",
       "    }\n",
       "</style>\n",
       "<table border=\"1\" class=\"dataframe\">\n",
       "  <thead>\n",
       "    <tr style=\"text-align: right;\">\n",
       "      <th></th>\n",
       "      <th>Person ID</th>\n",
       "      <th>Gender</th>\n",
       "      <th>Age</th>\n",
       "      <th>Occupation</th>\n",
       "      <th>Sleep Duration</th>\n",
       "      <th>Quality of Sleep</th>\n",
       "      <th>Physical Activity Level</th>\n",
       "      <th>Stress Level</th>\n",
       "      <th>BMI Category</th>\n",
       "      <th>Blood Pressure</th>\n",
       "      <th>Heart Rate</th>\n",
       "      <th>Daily Steps</th>\n",
       "      <th>Sleep Disorder</th>\n",
       "    </tr>\n",
       "  </thead>\n",
       "  <tbody>\n",
       "    <tr>\n",
       "      <th>252</th>\n",
       "      <td>253</td>\n",
       "      <td>Female</td>\n",
       "      <td>45</td>\n",
       "      <td>Teacher</td>\n",
       "      <td>6.5</td>\n",
       "      <td>7</td>\n",
       "      <td>45</td>\n",
       "      <td>4</td>\n",
       "      <td>Overweight</td>\n",
       "      <td>135/90</td>\n",
       "      <td>65</td>\n",
       "      <td>6000</td>\n",
       "      <td>Insomnia</td>\n",
       "    </tr>\n",
       "    <tr>\n",
       "      <th>19</th>\n",
       "      <td>20</td>\n",
       "      <td>Male</td>\n",
       "      <td>30</td>\n",
       "      <td>Doctor</td>\n",
       "      <td>7.6</td>\n",
       "      <td>7</td>\n",
       "      <td>75</td>\n",
       "      <td>6</td>\n",
       "      <td>Normal</td>\n",
       "      <td>120/80</td>\n",
       "      <td>70</td>\n",
       "      <td>8000</td>\n",
       "      <td>None</td>\n",
       "    </tr>\n",
       "    <tr>\n",
       "      <th>372</th>\n",
       "      <td>373</td>\n",
       "      <td>Female</td>\n",
       "      <td>59</td>\n",
       "      <td>Nurse</td>\n",
       "      <td>8.1</td>\n",
       "      <td>9</td>\n",
       "      <td>75</td>\n",
       "      <td>3</td>\n",
       "      <td>Overweight</td>\n",
       "      <td>140/95</td>\n",
       "      <td>68</td>\n",
       "      <td>7000</td>\n",
       "      <td>Sleep Apnea</td>\n",
       "    </tr>\n",
       "    <tr>\n",
       "      <th>317</th>\n",
       "      <td>318</td>\n",
       "      <td>Female</td>\n",
       "      <td>53</td>\n",
       "      <td>Engineer</td>\n",
       "      <td>8.5</td>\n",
       "      <td>9</td>\n",
       "      <td>30</td>\n",
       "      <td>3</td>\n",
       "      <td>Normal</td>\n",
       "      <td>125/80</td>\n",
       "      <td>65</td>\n",
       "      <td>5000</td>\n",
       "      <td>None</td>\n",
       "    </tr>\n",
       "    <tr>\n",
       "      <th>178</th>\n",
       "      <td>179</td>\n",
       "      <td>Male</td>\n",
       "      <td>42</td>\n",
       "      <td>Lawyer</td>\n",
       "      <td>7.8</td>\n",
       "      <td>8</td>\n",
       "      <td>90</td>\n",
       "      <td>5</td>\n",
       "      <td>Normal</td>\n",
       "      <td>130/85</td>\n",
       "      <td>70</td>\n",
       "      <td>8000</td>\n",
       "      <td>None</td>\n",
       "    </tr>\n",
       "  </tbody>\n",
       "</table>\n",
       "</div>"
      ],
      "text/plain": [
       "     Person ID  Gender  Age Occupation  Sleep Duration  Quality of Sleep  \\\n",
       "252        253  Female   45    Teacher             6.5                 7   \n",
       "19          20    Male   30     Doctor             7.6                 7   \n",
       "372        373  Female   59      Nurse             8.1                 9   \n",
       "317        318  Female   53   Engineer             8.5                 9   \n",
       "178        179    Male   42     Lawyer             7.8                 8   \n",
       "\n",
       "     Physical Activity Level  Stress Level BMI Category Blood Pressure  \\\n",
       "252                       45             4   Overweight         135/90   \n",
       "19                        75             6       Normal         120/80   \n",
       "372                       75             3   Overweight         140/95   \n",
       "317                       30             3       Normal         125/80   \n",
       "178                       90             5       Normal         130/85   \n",
       "\n",
       "     Heart Rate  Daily Steps Sleep Disorder  \n",
       "252          65         6000       Insomnia  \n",
       "19           70         8000           None  \n",
       "372          68         7000    Sleep Apnea  \n",
       "317          65         5000           None  \n",
       "178          70         8000           None  "
      ]
     },
     "execution_count": 3,
     "metadata": {},
     "output_type": "execute_result"
    }
   ],
   "source": [
    "df.sample(5)"
   ]
  },
  {
   "cell_type": "code",
   "execution_count": 4,
   "metadata": {},
   "outputs": [
    {
     "data": {
      "text/html": [
       "<div>\n",
       "<style scoped>\n",
       "    .dataframe tbody tr th:only-of-type {\n",
       "        vertical-align: middle;\n",
       "    }\n",
       "\n",
       "    .dataframe tbody tr th {\n",
       "        vertical-align: top;\n",
       "    }\n",
       "\n",
       "    .dataframe thead th {\n",
       "        text-align: right;\n",
       "    }\n",
       "</style>\n",
       "<table border=\"1\" class=\"dataframe\">\n",
       "  <thead>\n",
       "    <tr style=\"text-align: right;\">\n",
       "      <th></th>\n",
       "      <th>Person ID</th>\n",
       "      <th>Gender</th>\n",
       "      <th>Age</th>\n",
       "      <th>Occupation</th>\n",
       "      <th>Sleep Duration</th>\n",
       "      <th>Quality of Sleep</th>\n",
       "      <th>Physical Activity Level</th>\n",
       "      <th>Stress Level</th>\n",
       "      <th>BMI Category</th>\n",
       "      <th>Blood Pressure</th>\n",
       "      <th>Heart Rate</th>\n",
       "      <th>Daily Steps</th>\n",
       "      <th>Sleep Disorder</th>\n",
       "    </tr>\n",
       "  </thead>\n",
       "  <tbody>\n",
       "    <tr>\n",
       "      <th>369</th>\n",
       "      <td>370</td>\n",
       "      <td>Female</td>\n",
       "      <td>59</td>\n",
       "      <td>Nurse</td>\n",
       "      <td>8.1</td>\n",
       "      <td>9</td>\n",
       "      <td>75</td>\n",
       "      <td>3</td>\n",
       "      <td>Overweight</td>\n",
       "      <td>140/95</td>\n",
       "      <td>68</td>\n",
       "      <td>7000</td>\n",
       "      <td>Sleep Apnea</td>\n",
       "    </tr>\n",
       "    <tr>\n",
       "      <th>370</th>\n",
       "      <td>371</td>\n",
       "      <td>Female</td>\n",
       "      <td>59</td>\n",
       "      <td>Nurse</td>\n",
       "      <td>8.0</td>\n",
       "      <td>9</td>\n",
       "      <td>75</td>\n",
       "      <td>3</td>\n",
       "      <td>Overweight</td>\n",
       "      <td>140/95</td>\n",
       "      <td>68</td>\n",
       "      <td>7000</td>\n",
       "      <td>Sleep Apnea</td>\n",
       "    </tr>\n",
       "    <tr>\n",
       "      <th>371</th>\n",
       "      <td>372</td>\n",
       "      <td>Female</td>\n",
       "      <td>59</td>\n",
       "      <td>Nurse</td>\n",
       "      <td>8.1</td>\n",
       "      <td>9</td>\n",
       "      <td>75</td>\n",
       "      <td>3</td>\n",
       "      <td>Overweight</td>\n",
       "      <td>140/95</td>\n",
       "      <td>68</td>\n",
       "      <td>7000</td>\n",
       "      <td>Sleep Apnea</td>\n",
       "    </tr>\n",
       "    <tr>\n",
       "      <th>372</th>\n",
       "      <td>373</td>\n",
       "      <td>Female</td>\n",
       "      <td>59</td>\n",
       "      <td>Nurse</td>\n",
       "      <td>8.1</td>\n",
       "      <td>9</td>\n",
       "      <td>75</td>\n",
       "      <td>3</td>\n",
       "      <td>Overweight</td>\n",
       "      <td>140/95</td>\n",
       "      <td>68</td>\n",
       "      <td>7000</td>\n",
       "      <td>Sleep Apnea</td>\n",
       "    </tr>\n",
       "    <tr>\n",
       "      <th>373</th>\n",
       "      <td>374</td>\n",
       "      <td>Female</td>\n",
       "      <td>59</td>\n",
       "      <td>Nurse</td>\n",
       "      <td>8.1</td>\n",
       "      <td>9</td>\n",
       "      <td>75</td>\n",
       "      <td>3</td>\n",
       "      <td>Overweight</td>\n",
       "      <td>140/95</td>\n",
       "      <td>68</td>\n",
       "      <td>7000</td>\n",
       "      <td>Sleep Apnea</td>\n",
       "    </tr>\n",
       "  </tbody>\n",
       "</table>\n",
       "</div>"
      ],
      "text/plain": [
       "     Person ID  Gender  Age Occupation  Sleep Duration  Quality of Sleep  \\\n",
       "369        370  Female   59      Nurse             8.1                 9   \n",
       "370        371  Female   59      Nurse             8.0                 9   \n",
       "371        372  Female   59      Nurse             8.1                 9   \n",
       "372        373  Female   59      Nurse             8.1                 9   \n",
       "373        374  Female   59      Nurse             8.1                 9   \n",
       "\n",
       "     Physical Activity Level  Stress Level BMI Category Blood Pressure  \\\n",
       "369                       75             3   Overweight         140/95   \n",
       "370                       75             3   Overweight         140/95   \n",
       "371                       75             3   Overweight         140/95   \n",
       "372                       75             3   Overweight         140/95   \n",
       "373                       75             3   Overweight         140/95   \n",
       "\n",
       "     Heart Rate  Daily Steps Sleep Disorder  \n",
       "369          68         7000    Sleep Apnea  \n",
       "370          68         7000    Sleep Apnea  \n",
       "371          68         7000    Sleep Apnea  \n",
       "372          68         7000    Sleep Apnea  \n",
       "373          68         7000    Sleep Apnea  "
      ]
     },
     "execution_count": 4,
     "metadata": {},
     "output_type": "execute_result"
    }
   ],
   "source": [
    "df.tail()"
   ]
  },
  {
   "cell_type": "code",
   "execution_count": 5,
   "metadata": {},
   "outputs": [
    {
     "data": {
      "text/plain": [
       "(374, 13)"
      ]
     },
     "execution_count": 5,
     "metadata": {},
     "output_type": "execute_result"
    }
   ],
   "source": [
    "df.shape"
   ]
  },
  {
   "cell_type": "code",
   "execution_count": 6,
   "metadata": {},
   "outputs": [
    {
     "data": {
      "text/plain": [
       "Person ID                    int64\n",
       "Gender                      object\n",
       "Age                          int64\n",
       "Occupation                  object\n",
       "Sleep Duration             float64\n",
       "Quality of Sleep             int64\n",
       "Physical Activity Level      int64\n",
       "Stress Level                 int64\n",
       "BMI Category                object\n",
       "Blood Pressure              object\n",
       "Heart Rate                   int64\n",
       "Daily Steps                  int64\n",
       "Sleep Disorder              object\n",
       "dtype: object"
      ]
     },
     "execution_count": 6,
     "metadata": {},
     "output_type": "execute_result"
    }
   ],
   "source": [
    "# datatypes of the variables\n",
    "\n",
    "df.dtypes"
   ]
  },
  {
   "cell_type": "markdown",
   "metadata": {},
   "source": [
    "### Data Pre-processing"
   ]
  },
  {
   "cell_type": "code",
   "execution_count": 7,
   "metadata": {},
   "outputs": [
    {
     "data": {
      "text/plain": [
       "Index(['Person ID', 'Gender', 'Age', 'Occupation', 'Sleep Duration',\n",
       "       'Quality of Sleep', 'Physical Activity Level', 'Stress Level',\n",
       "       'BMI Category', 'Blood Pressure', 'Heart Rate', 'Daily Steps',\n",
       "       'Sleep Disorder'],\n",
       "      dtype='object')"
      ]
     },
     "execution_count": 7,
     "metadata": {},
     "output_type": "execute_result"
    }
   ],
   "source": [
    "df.columns"
   ]
  },
  {
   "cell_type": "code",
   "execution_count": 8,
   "metadata": {},
   "outputs": [
    {
     "data": {
      "text/plain": [
       "(374, 12)"
      ]
     },
     "execution_count": 8,
     "metadata": {},
     "output_type": "execute_result"
    }
   ],
   "source": [
    "# Dropping the column \"Person ID\" as it is just a index column\n",
    "\n",
    "df = df.drop('Person ID', axis = 1)\n",
    "df.shape"
   ]
  },
  {
   "cell_type": "code",
   "execution_count": 9,
   "metadata": {},
   "outputs": [
    {
     "name": "stdout",
     "output_type": "stream",
     "text": [
      "<class 'pandas.core.frame.DataFrame'>\n",
      "RangeIndex: 374 entries, 0 to 373\n",
      "Data columns (total 12 columns):\n",
      " #   Column                   Non-Null Count  Dtype  \n",
      "---  ------                   --------------  -----  \n",
      " 0   Gender                   374 non-null    object \n",
      " 1   Age                      374 non-null    int64  \n",
      " 2   Occupation               374 non-null    object \n",
      " 3   Sleep Duration           374 non-null    float64\n",
      " 4   Quality of Sleep         374 non-null    int64  \n",
      " 5   Physical Activity Level  374 non-null    int64  \n",
      " 6   Stress Level             374 non-null    int64  \n",
      " 7   BMI Category             374 non-null    object \n",
      " 8   Blood Pressure           374 non-null    object \n",
      " 9   Heart Rate               374 non-null    int64  \n",
      " 10  Daily Steps              374 non-null    int64  \n",
      " 11  Sleep Disorder           374 non-null    object \n",
      "dtypes: float64(1), int64(6), object(5)\n",
      "memory usage: 35.2+ KB\n"
     ]
    }
   ],
   "source": [
    "df.info()"
   ]
  },
  {
   "cell_type": "code",
   "execution_count": 10,
   "metadata": {},
   "outputs": [
    {
     "name": "stdout",
     "output_type": "stream",
     "text": [
      " Gender                  : 2\n",
      " Age                     : 31\n",
      " Occupation              : 11\n",
      " Sleep Duration          : 27\n",
      " Quality of Sleep        : 6\n",
      " Physical Activity Level : 16\n",
      " Stress Level            : 6\n",
      " BMI Category            : 4\n",
      " Blood Pressure          : 25\n",
      " Heart Rate              : 19\n",
      " Daily Steps             : 20\n",
      " Sleep Disorder          : 3\n"
     ]
    }
   ],
   "source": [
    "# Checking the No of unique values in each column\n",
    "\n",
    "for x in df:\n",
    "    print(f\" {x:23} : {df[x].nunique()}\",)"
   ]
  },
  {
   "cell_type": "code",
   "execution_count": 11,
   "metadata": {
    "scrolled": true
   },
   "outputs": [
    {
     "name": "stdout",
     "output_type": "stream",
     "text": [
      " Gender           : ['Male' 'Female']\n",
      " Quality of Sleep : [6 4 7 5 8 9]\n",
      " Stress Level     : [6 8 7 4 3 5]\n",
      " BMI Category     : ['Overweight' 'Normal' 'Obese' 'Normal Weight']\n",
      " Sleep Disorder   : ['None' 'Sleep Apnea' 'Insomnia']\n"
     ]
    }
   ],
   "source": [
    "# Checking the unique values for the categoricol columns\n",
    "\n",
    "for x in df:\n",
    "    if df[x].nunique() <= 6:\n",
    "        print(f\" {x:16} : {df[x].unique()}\")"
   ]
  },
  {
   "cell_type": "markdown",
   "metadata": {},
   "source": [
    "### Observation"
   ]
  },
  {
   "cell_type": "markdown",
   "metadata": {},
   "source": [
    "For the people with normal weight, there are two different labels ('Normal' and 'Normal Weight') in \"BMI Category\" column, hence merging all of it in a single label \"Normal\" "
   ]
  },
  {
   "cell_type": "code",
   "execution_count": 12,
   "metadata": {},
   "outputs": [
    {
     "data": {
      "text/plain": [
       "array(['Overweight', 'Normal', 'Obese'], dtype=object)"
      ]
     },
     "execution_count": 12,
     "metadata": {},
     "output_type": "execute_result"
    }
   ],
   "source": [
    "# In \"BMI Category\" column replacing 'Normal Weight' value to 'Normal'\n",
    "\n",
    "df['BMI Category'] = df['BMI Category'].replace('Normal Weight', 'Normal')\n",
    "df['BMI Category'].unique()"
   ]
  },
  {
   "cell_type": "code",
   "execution_count": 13,
   "metadata": {},
   "outputs": [
    {
     "data": {
      "text/html": [
       "<div>\n",
       "<style scoped>\n",
       "    .dataframe tbody tr th:only-of-type {\n",
       "        vertical-align: middle;\n",
       "    }\n",
       "\n",
       "    .dataframe tbody tr th {\n",
       "        vertical-align: top;\n",
       "    }\n",
       "\n",
       "    .dataframe thead th {\n",
       "        text-align: right;\n",
       "    }\n",
       "</style>\n",
       "<table border=\"1\" class=\"dataframe\">\n",
       "  <thead>\n",
       "    <tr style=\"text-align: right;\">\n",
       "      <th></th>\n",
       "      <th>Gender</th>\n",
       "      <th>Age</th>\n",
       "      <th>Occupation</th>\n",
       "      <th>Sleep Duration</th>\n",
       "      <th>Quality of Sleep</th>\n",
       "      <th>Physical Activity Level</th>\n",
       "      <th>Stress Level</th>\n",
       "      <th>BMI Category</th>\n",
       "      <th>Heart Rate</th>\n",
       "      <th>Daily Steps</th>\n",
       "      <th>Sleep Disorder</th>\n",
       "      <th>Systolic Bp</th>\n",
       "      <th>Diastolic Bp</th>\n",
       "    </tr>\n",
       "  </thead>\n",
       "  <tbody>\n",
       "    <tr>\n",
       "      <th>0</th>\n",
       "      <td>Male</td>\n",
       "      <td>27</td>\n",
       "      <td>Software Engineer</td>\n",
       "      <td>6.1</td>\n",
       "      <td>6</td>\n",
       "      <td>42</td>\n",
       "      <td>6</td>\n",
       "      <td>Overweight</td>\n",
       "      <td>77</td>\n",
       "      <td>4200</td>\n",
       "      <td>None</td>\n",
       "      <td>126</td>\n",
       "      <td>83</td>\n",
       "    </tr>\n",
       "    <tr>\n",
       "      <th>1</th>\n",
       "      <td>Male</td>\n",
       "      <td>28</td>\n",
       "      <td>Doctor</td>\n",
       "      <td>6.2</td>\n",
       "      <td>6</td>\n",
       "      <td>60</td>\n",
       "      <td>8</td>\n",
       "      <td>Normal</td>\n",
       "      <td>75</td>\n",
       "      <td>10000</td>\n",
       "      <td>None</td>\n",
       "      <td>125</td>\n",
       "      <td>80</td>\n",
       "    </tr>\n",
       "  </tbody>\n",
       "</table>\n",
       "</div>"
      ],
      "text/plain": [
       "  Gender  Age         Occupation  Sleep Duration  Quality of Sleep  \\\n",
       "0   Male   27  Software Engineer             6.1                 6   \n",
       "1   Male   28             Doctor             6.2                 6   \n",
       "\n",
       "   Physical Activity Level  Stress Level BMI Category  Heart Rate  \\\n",
       "0                       42             6   Overweight          77   \n",
       "1                       60             8       Normal          75   \n",
       "\n",
       "   Daily Steps Sleep Disorder Systolic Bp Diastolic Bp  \n",
       "0         4200           None         126           83  \n",
       "1        10000           None         125           80  "
      ]
     },
     "execution_count": 13,
     "metadata": {},
     "output_type": "execute_result"
    }
   ],
   "source": [
    "# Spliting the values in \"Blood Pressure\" column into two different columns \"Systolic Bp\" and \"Diastolic Bp\"\n",
    "\n",
    "df['Systolic Bp'] = df['Blood Pressure'].apply(lambda x: x.split('/')[0])\n",
    "df['Diastolic Bp'] = df['Blood Pressure'].apply(lambda x: x.split('/')[1])\n",
    "\n",
    "\n",
    "# Droping the \"Blood Pressure\" column\n",
    "\n",
    "df = df.drop(columns= 'Blood Pressure')\n",
    "df.head(2)"
   ]
  },
  {
   "cell_type": "markdown",
   "metadata": {},
   "source": [
    "### Exploratory Data Analysis"
   ]
  },
  {
   "cell_type": "code",
   "execution_count": 14,
   "metadata": {},
   "outputs": [
    {
     "data": {
      "text/html": [
       "<div>\n",
       "<style scoped>\n",
       "    .dataframe tbody tr th:only-of-type {\n",
       "        vertical-align: middle;\n",
       "    }\n",
       "\n",
       "    .dataframe tbody tr th {\n",
       "        vertical-align: top;\n",
       "    }\n",
       "\n",
       "    .dataframe thead th {\n",
       "        text-align: right;\n",
       "    }\n",
       "</style>\n",
       "<table border=\"1\" class=\"dataframe\">\n",
       "  <thead>\n",
       "    <tr style=\"text-align: right;\">\n",
       "      <th></th>\n",
       "      <th>Age</th>\n",
       "      <th>Sleep Duration</th>\n",
       "      <th>Quality of Sleep</th>\n",
       "      <th>Physical Activity Level</th>\n",
       "      <th>Stress Level</th>\n",
       "      <th>Heart Rate</th>\n",
       "      <th>Daily Steps</th>\n",
       "    </tr>\n",
       "  </thead>\n",
       "  <tbody>\n",
       "    <tr>\n",
       "      <th>count</th>\n",
       "      <td>374.000000</td>\n",
       "      <td>374.000000</td>\n",
       "      <td>374.000000</td>\n",
       "      <td>374.000000</td>\n",
       "      <td>374.000000</td>\n",
       "      <td>374.000000</td>\n",
       "      <td>374.000000</td>\n",
       "    </tr>\n",
       "    <tr>\n",
       "      <th>mean</th>\n",
       "      <td>42.184492</td>\n",
       "      <td>7.132086</td>\n",
       "      <td>7.312834</td>\n",
       "      <td>59.171123</td>\n",
       "      <td>5.385027</td>\n",
       "      <td>70.165775</td>\n",
       "      <td>6816.844920</td>\n",
       "    </tr>\n",
       "    <tr>\n",
       "      <th>std</th>\n",
       "      <td>8.673133</td>\n",
       "      <td>0.795657</td>\n",
       "      <td>1.196956</td>\n",
       "      <td>20.830804</td>\n",
       "      <td>1.774526</td>\n",
       "      <td>4.135676</td>\n",
       "      <td>1617.915679</td>\n",
       "    </tr>\n",
       "    <tr>\n",
       "      <th>min</th>\n",
       "      <td>27.000000</td>\n",
       "      <td>5.800000</td>\n",
       "      <td>4.000000</td>\n",
       "      <td>30.000000</td>\n",
       "      <td>3.000000</td>\n",
       "      <td>65.000000</td>\n",
       "      <td>3000.000000</td>\n",
       "    </tr>\n",
       "    <tr>\n",
       "      <th>25%</th>\n",
       "      <td>35.250000</td>\n",
       "      <td>6.400000</td>\n",
       "      <td>6.000000</td>\n",
       "      <td>45.000000</td>\n",
       "      <td>4.000000</td>\n",
       "      <td>68.000000</td>\n",
       "      <td>5600.000000</td>\n",
       "    </tr>\n",
       "    <tr>\n",
       "      <th>50%</th>\n",
       "      <td>43.000000</td>\n",
       "      <td>7.200000</td>\n",
       "      <td>7.000000</td>\n",
       "      <td>60.000000</td>\n",
       "      <td>5.000000</td>\n",
       "      <td>70.000000</td>\n",
       "      <td>7000.000000</td>\n",
       "    </tr>\n",
       "    <tr>\n",
       "      <th>75%</th>\n",
       "      <td>50.000000</td>\n",
       "      <td>7.800000</td>\n",
       "      <td>8.000000</td>\n",
       "      <td>75.000000</td>\n",
       "      <td>7.000000</td>\n",
       "      <td>72.000000</td>\n",
       "      <td>8000.000000</td>\n",
       "    </tr>\n",
       "    <tr>\n",
       "      <th>max</th>\n",
       "      <td>59.000000</td>\n",
       "      <td>8.500000</td>\n",
       "      <td>9.000000</td>\n",
       "      <td>90.000000</td>\n",
       "      <td>8.000000</td>\n",
       "      <td>86.000000</td>\n",
       "      <td>10000.000000</td>\n",
       "    </tr>\n",
       "  </tbody>\n",
       "</table>\n",
       "</div>"
      ],
      "text/plain": [
       "              Age  Sleep Duration  Quality of Sleep  Physical Activity Level  \\\n",
       "count  374.000000      374.000000        374.000000               374.000000   \n",
       "mean    42.184492        7.132086          7.312834                59.171123   \n",
       "std      8.673133        0.795657          1.196956                20.830804   \n",
       "min     27.000000        5.800000          4.000000                30.000000   \n",
       "25%     35.250000        6.400000          6.000000                45.000000   \n",
       "50%     43.000000        7.200000          7.000000                60.000000   \n",
       "75%     50.000000        7.800000          8.000000                75.000000   \n",
       "max     59.000000        8.500000          9.000000                90.000000   \n",
       "\n",
       "       Stress Level  Heart Rate   Daily Steps  \n",
       "count    374.000000  374.000000    374.000000  \n",
       "mean       5.385027   70.165775   6816.844920  \n",
       "std        1.774526    4.135676   1617.915679  \n",
       "min        3.000000   65.000000   3000.000000  \n",
       "25%        4.000000   68.000000   5600.000000  \n",
       "50%        5.000000   70.000000   7000.000000  \n",
       "75%        7.000000   72.000000   8000.000000  \n",
       "max        8.000000   86.000000  10000.000000  "
      ]
     },
     "execution_count": 14,
     "metadata": {},
     "output_type": "execute_result"
    }
   ],
   "source": [
    "# Statistical Description\n",
    "\n",
    "df.describe()"
   ]
  },
  {
   "cell_type": "code",
   "execution_count": 15,
   "metadata": {},
   "outputs": [
    {
     "data": {
      "text/plain": [
       "Gender                     0\n",
       "Age                        0\n",
       "Occupation                 0\n",
       "Sleep Duration             0\n",
       "Quality of Sleep           0\n",
       "Physical Activity Level    0\n",
       "Stress Level               0\n",
       "BMI Category               0\n",
       "Heart Rate                 0\n",
       "Daily Steps                0\n",
       "Sleep Disorder             0\n",
       "Systolic Bp                0\n",
       "Diastolic Bp               0\n",
       "dtype: int64"
      ]
     },
     "execution_count": 15,
     "metadata": {},
     "output_type": "execute_result"
    }
   ],
   "source": [
    "# Checking null values in the dataset\n",
    "\n",
    "df.isnull().sum()"
   ]
  },
  {
   "cell_type": "code",
   "execution_count": 16,
   "metadata": {},
   "outputs": [
    {
     "data": {
      "text/plain": [
       "Male      189\n",
       "Female    185\n",
       "Name: Gender, dtype: int64"
      ]
     },
     "execution_count": 16,
     "metadata": {},
     "output_type": "execute_result"
    }
   ],
   "source": [
    "df['Gender'].value_counts()"
   ]
  },
  {
   "cell_type": "markdown",
   "metadata": {},
   "source": [
    "### a) Understanding the relationship between different datapoints/featurs by plotting the data"
   ]
  },
  {
   "cell_type": "code",
   "execution_count": 17,
   "metadata": {},
   "outputs": [
    {
     "data": {
      "text/plain": [
       "Index(['Gender', 'Age', 'Occupation', 'Sleep Duration', 'Quality of Sleep',\n",
       "       'Physical Activity Level', 'Stress Level', 'BMI Category', 'Heart Rate',\n",
       "       'Daily Steps', 'Sleep Disorder', 'Systolic Bp', 'Diastolic Bp'],\n",
       "      dtype='object')"
      ]
     },
     "execution_count": 17,
     "metadata": {},
     "output_type": "execute_result"
    }
   ],
   "source": [
    "df.columns"
   ]
  },
  {
   "cell_type": "raw",
   "metadata": {},
   "source": [
    "Plotting data for ['Gender', 'Age', 'Sleep Duration', 'Quality of Sleep',\n",
    "                   'Physical Activity Level', 'Stress Level', 'BMI Category',\n",
    "                   'Daily Steps', 'Sleep Disorder']"
   ]
  },
  {
   "cell_type": "code",
   "execution_count": 18,
   "metadata": {},
   "outputs": [
    {
     "data": {
      "image/png": "[encoded data removed]",
      "text/plain": [
       "<Figure size 1512x792 with 9 Axes>"
      ]
     },
     "metadata": {
      "needs_background": "light"
     },
     "output_type": "display_data"
    }
   ],
   "source": [
    "fig, ax = plt.subplots(nrows= 3, ncols= 3, figsize = (21,11))\n",
    "\n",
    "sns.countplot(data = df, x = 'Gender', ax = ax[0,0], palette = 'OrRd')\n",
    "sns.kdeplot(data = df, x = 'Age', hue = 'Gender', fill = True, palette = 'mako' , ax = ax[0,1])\n",
    "sns.kdeplot(data= df, x = 'Sleep Duration', hue = 'Gender', fill = True, palette = 'hot' ,  ax = ax[0,2])\n",
    "sns.countplot(data = df, x = 'Quality of Sleep', ax = ax[1,0], palette = 'icefire')\n",
    "sns.kdeplot(data = df, x = 'Physical Activity Level', hue = 'Gender', fill = True, ax = ax[1,1], palette = 'copper')\n",
    "sns.countplot(data = df, x = 'Stress Level', ax = ax[1,2], palette = 'viridis')\n",
    "sns.countplot(data = df, x = 'BMI Category', ax = ax[2,0], palette = 'Wistia')\n",
    "sns.kdeplot(data = df, x = 'Daily Steps', hue = 'Gender', fill = True, ax = ax[2,1], palette = 'Greens')\n",
    "sns.countplot(data = df, x = 'Sleep Disorder', ax = ax[2,2], palette = 'Reds_r')\n",
    "\n",
    "plt.show()"
   ]
  },
  {
   "cell_type": "markdown",
   "metadata": {},
   "source": [
    "### Observation"
   ]
  },
  {
   "cell_type": "markdown",
   "metadata": {},
   "source": [
    "- Here, we can notice that, the \"Count\" for \"Male\" and \"Female\" is almost equal.\n",
    "- The \"Age\" for both the gender category lies almost between 30-55 years. \n",
    "- The \"Sleep Duration\" for the people is greater than 5 hours, which is sufficient amount of sleep for a person.\n",
    "- With the high level of \"Phyisicl acticity\" people are getting \"Good Quality of Sleep\".\n",
    "- Moreover, most of the people have normal \"BMI\" which directly relates with the distribution of sleep disorder which shows    equal number of people with and without sleep disorder.\n"
   ]
  },
  {
   "cell_type": "markdown",
   "metadata": {},
   "source": [
    "#### Relation between \"Physical Activity\" and \"Quality of Sleep\""
   ]
  },
  {
   "cell_type": "code",
   "execution_count": 19,
   "metadata": {},
   "outputs": [
    {
     "data": {
      "image/png": "[encoded data removed]",
      "text/plain": [
       "<Figure size 504x504 with 1 Axes>"
      ]
     },
     "metadata": {
      "needs_background": "light"
     },
     "output_type": "display_data"
    }
   ],
   "source": [
    "plt.figure(figsize= (7,7))\n",
    "sns.scatterplot(data = df, x='Quality of Sleep', y='Physical Activity Level', hue='Quality of Sleep', palette='gist_heat',s=75)\n",
    "plt.title(\"How Physical Activity relates to Quality of Sleep\", fontdict= {'fontsize': 18})\n",
    "plt.show()"
   ]
  },
  {
   "cell_type": "markdown",
   "metadata": {},
   "source": [
    "#### Observation"
   ]
  },
  {
   "cell_type": "markdown",
   "metadata": {},
   "source": [
    "The above scatter plot shows us the relation between people's physical activity and there quality of sleep.\n",
    "We can observe, \"higher\" the \"Physical Acticity Level\", \"better\" the \"Quality of Sleep\". Hence with higher physical activity, people are getting good quality of sleep."
   ]
  },
  {
   "cell_type": "markdown",
   "metadata": {},
   "source": [
    "#### Relation between \"BMI Level\" and \"Sleep Disorder\""
   ]
  },
  {
   "cell_type": "code",
   "execution_count": 20,
   "metadata": {
    "scrolled": true
   },
   "outputs": [
    {
     "data": {
      "image/png": "[encoded data removed]",
      "text/plain": [
       "<Figure size 504x504 with 1 Axes>"
      ]
     },
     "metadata": {
      "needs_background": "light"
     },
     "output_type": "display_data"
    }
   ],
   "source": [
    "plt.figure(figsize= (7,7))\n",
    "sns.countplot(data = df, x= 'BMI Category', hue = 'Sleep Disorder', palette= 'plasma_r')\n",
    "plt.title(\"How BMI relates with Sleep Disorder\", fontdict= {'fontsize': 18})\n",
    "display()\n",
    "plt.show()"
   ]
  },
  {
   "cell_type": "markdown",
   "metadata": {},
   "source": [
    "#### Observation"
   ]
  },
  {
   "cell_type": "markdown",
   "metadata": {},
   "source": [
    "Here we can notice that, People with \"Normal BMI\" level are less likely to suffer from any \"Sleeping disorder\".\n",
    "The people with \"high weight\" (overwight people) have more problems with sleeping. Also, for the people with \"Obese\" BMI level, the sleep disorder range is between minimum to medium."
   ]
  },
  {
   "cell_type": "markdown",
   "metadata": {},
   "source": [
    "#### Relation between \"Gender\" and \"Sleep Disorder\""
   ]
  },
  {
   "cell_type": "code",
   "execution_count": 21,
   "metadata": {},
   "outputs": [
    {
     "data": {
      "image/png": "[encoded data removed]",
      "text/plain": [
       "<Figure size 504x504 with 1 Axes>"
      ]
     },
     "metadata": {
      "needs_background": "light"
     },
     "output_type": "display_data"
    }
   ],
   "source": [
    "plt.figure(figsize= (7,7))\n",
    "sns.countplot(data = df, x = 'Gender', hue = 'Sleep Disorder', palette = \"Oranges_r\")\n",
    "plt.title(\"Gender and Sleep Disorder relationship\", fontdict= {'fontsize': 18})\n",
    "plt.show()"
   ]
  },
  {
   "cell_type": "markdown",
   "metadata": {},
   "source": [
    "#### Observation"
   ]
  },
  {
   "cell_type": "markdown",
   "metadata": {},
   "source": [
    "From the above plot, we can notice, most of the people have good sleeping condition and are not suffering from any \"Sleeping Disorder\". However \"Females\" compared to \"Male\", are suffering more from different sleeping problems. \n",
    "Here, the number of females suffering from \"Sleep Apnea\" is quite high as compared to males. But the male people have more issue with \"Sleep Insomnia\" than the female people."
   ]
  },
  {
   "cell_type": "markdown",
   "metadata": {},
   "source": [
    "#### Effect of \"Stree level\" on \"Sleep Disorder\""
   ]
  },
  {
   "cell_type": "code",
   "execution_count": 22,
   "metadata": {},
   "outputs": [
    {
     "data": {
      "image/png": "[encoded data removed]",
      "text/plain": [
       "<Figure size 504x504 with 1 Axes>"
      ]
     },
     "metadata": {
      "needs_background": "light"
     },
     "output_type": "display_data"
    }
   ],
   "source": [
    "plt.figure(figsize = (7,7))\n",
    "sns.countplot(data = df, x= \"Stress Level\", hue = \"Sleep Disorder\", palette = 'Reds')\n",
    "plt.title(\"Effect of Stress Level on Sleep Disorder\", fontdict= {'fontsize': 18})\n",
    "plt.xticks(rotation = 90)\n",
    "plt.show()"
   ]
  },
  {
   "cell_type": "markdown",
   "metadata": {},
   "source": [
    "#### Observation"
   ]
  },
  {
   "cell_type": "markdown",
   "metadata": {},
   "source": [
    "In the above plot, we can note that, the \"Stress Level\" of a person affects the \"Sleeping Disorder\" he have. \n",
    "People with high stress level are suffering from \"Sleep Apnea\" and \" Insomnia\" conditions. Also we can observe that, people with lower stress level are also experiencing \"Sleep Apnea\".\n",
    "The peoples with moderate stress level are \"happy and sleeping better\"."
   ]
  },
  {
   "cell_type": "markdown",
   "metadata": {},
   "source": [
    "#### Effect of \"Occupation\" on \"Sleep Disorder\""
   ]
  },
  {
   "cell_type": "code",
   "execution_count": 23,
   "metadata": {},
   "outputs": [
    {
     "data": {
      "image/png": "[encoded data removed]",
      "text/plain": [
       "<Figure size 504x504 with 1 Axes>"
      ]
     },
     "metadata": {
      "needs_background": "light"
     },
     "output_type": "display_data"
    }
   ],
   "source": [
    "plt.figure(figsize = (7,7))\n",
    "sns.countplot(data = df, x= \"Occupation\", hue = \"Sleep Disorder\", palette = 'Paired')\n",
    "plt.title(\"Effect of Occupation on Sleep Disorder\", fontdict= {'fontsize': 18})\n",
    "plt.xticks(rotation = 90)\n",
    "plt.show()"
   ]
  },
  {
   "cell_type": "markdown",
   "metadata": {},
   "source": [
    "#### Observation"
   ]
  },
  {
   "cell_type": "markdown",
   "metadata": {},
   "source": [
    "From the above plot we can state that the \"Occupation\" of a person has huge impact on his \"Sleep Disorder\" condition.\n",
    "Nurses are more subjected to have \"Sleep Apenea\" condition as compared to other occupations in the list and very few of them have no sleep disorder.\n",
    "After the nurses, the most affected categories are Salespersons and Teachers, which are highly subjected to \"Insomnia\" problem. All the other categories of occupations such as Engineers, Doctors, Accountants, Lawyer, Manager, Software Engineers\n",
    "have medium to no \"sleeping problems\"."
   ]
  },
  {
   "cell_type": "markdown",
   "metadata": {},
   "source": [
    "### Data-preprocessing -  Applying Label Encoding on Categorical columns"
   ]
  },
  {
   "cell_type": "code",
   "execution_count": 24,
   "metadata": {},
   "outputs": [],
   "source": [
    "# Applying label encoder on \"Gender\", \"Occupation\", \"BMI Category\" and, \"Sleep Disorder\""
   ]
  },
  {
   "cell_type": "code",
   "execution_count": 25,
   "metadata": {},
   "outputs": [],
   "source": [
    "from sklearn.preprocessing import LabelEncoder"
   ]
  },
  {
   "cell_type": "code",
   "execution_count": 26,
   "metadata": {},
   "outputs": [],
   "source": [
    "LE = LabelEncoder()"
   ]
  },
  {
   "cell_type": "code",
   "execution_count": 27,
   "metadata": {},
   "outputs": [],
   "source": [
    "# Applying label encoder on multiple columns.\n",
    "\n",
    "df[['Gender','Occupation','BMI Category','Sleep Disorder']]=df[['Gender','Occupation','BMI Category','Sleep Disorder']].apply(LE.fit_transform)"
   ]
  },
  {
   "cell_type": "code",
   "execution_count": 28,
   "metadata": {},
   "outputs": [
    {
     "data": {
      "text/html": [
       "<div>\n",
       "<style scoped>\n",
       "    .dataframe tbody tr th:only-of-type {\n",
       "        vertical-align: middle;\n",
       "    }\n",
       "\n",
       "    .dataframe tbody tr th {\n",
       "        vertical-align: top;\n",
       "    }\n",
       "\n",
       "    .dataframe thead th {\n",
       "        text-align: right;\n",
       "    }\n",
       "</style>\n",
       "<table border=\"1\" class=\"dataframe\">\n",
       "  <thead>\n",
       "    <tr style=\"text-align: right;\">\n",
       "      <th></th>\n",
       "      <th>Gender</th>\n",
       "      <th>Age</th>\n",
       "      <th>Occupation</th>\n",
       "      <th>Sleep Duration</th>\n",
       "      <th>Quality of Sleep</th>\n",
       "      <th>Physical Activity Level</th>\n",
       "      <th>Stress Level</th>\n",
       "      <th>BMI Category</th>\n",
       "      <th>Heart Rate</th>\n",
       "      <th>Daily Steps</th>\n",
       "      <th>Sleep Disorder</th>\n",
       "      <th>Systolic Bp</th>\n",
       "      <th>Diastolic Bp</th>\n",
       "    </tr>\n",
       "  </thead>\n",
       "  <tbody>\n",
       "    <tr>\n",
       "      <th>0</th>\n",
       "      <td>1</td>\n",
       "      <td>27</td>\n",
       "      <td>9</td>\n",
       "      <td>6.1</td>\n",
       "      <td>6</td>\n",
       "      <td>42</td>\n",
       "      <td>6</td>\n",
       "      <td>2</td>\n",
       "      <td>77</td>\n",
       "      <td>4200</td>\n",
       "      <td>1</td>\n",
       "      <td>126</td>\n",
       "      <td>83</td>\n",
       "    </tr>\n",
       "    <tr>\n",
       "      <th>1</th>\n",
       "      <td>1</td>\n",
       "      <td>28</td>\n",
       "      <td>1</td>\n",
       "      <td>6.2</td>\n",
       "      <td>6</td>\n",
       "      <td>60</td>\n",
       "      <td>8</td>\n",
       "      <td>0</td>\n",
       "      <td>75</td>\n",
       "      <td>10000</td>\n",
       "      <td>1</td>\n",
       "      <td>125</td>\n",
       "      <td>80</td>\n",
       "    </tr>\n",
       "    <tr>\n",
       "      <th>2</th>\n",
       "      <td>1</td>\n",
       "      <td>28</td>\n",
       "      <td>1</td>\n",
       "      <td>6.2</td>\n",
       "      <td>6</td>\n",
       "      <td>60</td>\n",
       "      <td>8</td>\n",
       "      <td>0</td>\n",
       "      <td>75</td>\n",
       "      <td>10000</td>\n",
       "      <td>1</td>\n",
       "      <td>125</td>\n",
       "      <td>80</td>\n",
       "    </tr>\n",
       "    <tr>\n",
       "      <th>3</th>\n",
       "      <td>1</td>\n",
       "      <td>28</td>\n",
       "      <td>6</td>\n",
       "      <td>5.9</td>\n",
       "      <td>4</td>\n",
       "      <td>30</td>\n",
       "      <td>8</td>\n",
       "      <td>1</td>\n",
       "      <td>85</td>\n",
       "      <td>3000</td>\n",
       "      <td>2</td>\n",
       "      <td>140</td>\n",
       "      <td>90</td>\n",
       "    </tr>\n",
       "    <tr>\n",
       "      <th>4</th>\n",
       "      <td>1</td>\n",
       "      <td>28</td>\n",
       "      <td>6</td>\n",
       "      <td>5.9</td>\n",
       "      <td>4</td>\n",
       "      <td>30</td>\n",
       "      <td>8</td>\n",
       "      <td>1</td>\n",
       "      <td>85</td>\n",
       "      <td>3000</td>\n",
       "      <td>2</td>\n",
       "      <td>140</td>\n",
       "      <td>90</td>\n",
       "    </tr>\n",
       "  </tbody>\n",
       "</table>\n",
       "</div>"
      ],
      "text/plain": [
       "   Gender  Age  Occupation  Sleep Duration  Quality of Sleep  \\\n",
       "0       1   27           9             6.1                 6   \n",
       "1       1   28           1             6.2                 6   \n",
       "2       1   28           1             6.2                 6   \n",
       "3       1   28           6             5.9                 4   \n",
       "4       1   28           6             5.9                 4   \n",
       "\n",
       "   Physical Activity Level  Stress Level  BMI Category  Heart Rate  \\\n",
       "0                       42             6             2          77   \n",
       "1                       60             8             0          75   \n",
       "2                       60             8             0          75   \n",
       "3                       30             8             1          85   \n",
       "4                       30             8             1          85   \n",
       "\n",
       "   Daily Steps  Sleep Disorder Systolic Bp Diastolic Bp  \n",
       "0         4200               1         126           83  \n",
       "1        10000               1         125           80  \n",
       "2        10000               1         125           80  \n",
       "3         3000               2         140           90  \n",
       "4         3000               2         140           90  "
      ]
     },
     "execution_count": 28,
     "metadata": {},
     "output_type": "execute_result"
    }
   ],
   "source": [
    "df.head()"
   ]
  },
  {
   "cell_type": "markdown",
   "metadata": {},
   "source": [
    "###### Please note that,\n",
    "\n",
    "- **Gender** - 0: 'Female' , 1: 'Male'\n",
    "- **Occupation** - 0: 'Accountant', 1: 'Doctor', 2: 'Engineer', 3: 'Lawyer', 4: 'Manager', 5: 'Nurse', 6: 'Sales Representative', 7: 'Salesperson', 8: 'Scientist', 9: 'Software Engineer', 10: 'Teacher'\n",
    "- **BMI Category** - 0: 'Normal', 1: 'Obese', 2: 'Overweight'\n",
    "- **Sleep Disorder** - 0:'Insomnia', 1: 'Sleep Apnea', 2: 'None'"
   ]
  },
  {
   "cell_type": "markdown",
   "metadata": {},
   "source": [
    "### Correlation between the datapoints"
   ]
  },
  {
   "cell_type": "code",
   "execution_count": 29,
   "metadata": {},
   "outputs": [
    {
     "data": {
      "text/html": [
       "<div>\n",
       "<style scoped>\n",
       "    .dataframe tbody tr th:only-of-type {\n",
       "        vertical-align: middle;\n",
       "    }\n",
       "\n",
       "    .dataframe tbody tr th {\n",
       "        vertical-align: top;\n",
       "    }\n",
       "\n",
       "    .dataframe thead th {\n",
       "        text-align: right;\n",
       "    }\n",
       "</style>\n",
       "<table border=\"1\" class=\"dataframe\">\n",
       "  <thead>\n",
       "    <tr style=\"text-align: right;\">\n",
       "      <th></th>\n",
       "      <th>Gender</th>\n",
       "      <th>Age</th>\n",
       "      <th>Occupation</th>\n",
       "      <th>Sleep Duration</th>\n",
       "      <th>Quality of Sleep</th>\n",
       "      <th>Physical Activity Level</th>\n",
       "      <th>Stress Level</th>\n",
       "      <th>BMI Category</th>\n",
       "      <th>Heart Rate</th>\n",
       "      <th>Daily Steps</th>\n",
       "      <th>Sleep Disorder</th>\n",
       "    </tr>\n",
       "  </thead>\n",
       "  <tbody>\n",
       "    <tr>\n",
       "      <th>Gender</th>\n",
       "      <td>1.000000</td>\n",
       "      <td>-0.596358</td>\n",
       "      <td>-0.219113</td>\n",
       "      <td>-0.121579</td>\n",
       "      <td>-0.291366</td>\n",
       "      <td>0.001454</td>\n",
       "      <td>0.396018</td>\n",
       "      <td>-0.339945</td>\n",
       "      <td>0.217105</td>\n",
       "      <td>-0.014509</td>\n",
       "      <td>-0.253415</td>\n",
       "    </tr>\n",
       "    <tr>\n",
       "      <th>Age</th>\n",
       "      <td>-0.596358</td>\n",
       "      <td>1.000000</td>\n",
       "      <td>0.231188</td>\n",
       "      <td>0.344709</td>\n",
       "      <td>0.473734</td>\n",
       "      <td>0.178993</td>\n",
       "      <td>-0.422344</td>\n",
       "      <td>0.523881</td>\n",
       "      <td>-0.225606</td>\n",
       "      <td>0.057973</td>\n",
       "      <td>0.232000</td>\n",
       "    </tr>\n",
       "    <tr>\n",
       "      <th>Occupation</th>\n",
       "      <td>-0.219113</td>\n",
       "      <td>0.231188</td>\n",
       "      <td>1.000000</td>\n",
       "      <td>-0.325775</td>\n",
       "      <td>-0.278071</td>\n",
       "      <td>-0.103660</td>\n",
       "      <td>0.021123</td>\n",
       "      <td>0.694390</td>\n",
       "      <td>0.043928</td>\n",
       "      <td>-0.105877</td>\n",
       "      <td>-0.169800</td>\n",
       "    </tr>\n",
       "    <tr>\n",
       "      <th>Sleep Duration</th>\n",
       "      <td>-0.121579</td>\n",
       "      <td>0.344709</td>\n",
       "      <td>-0.325775</td>\n",
       "      <td>1.000000</td>\n",
       "      <td>0.883213</td>\n",
       "      <td>0.212360</td>\n",
       "      <td>-0.811023</td>\n",
       "      <td>-0.377637</td>\n",
       "      <td>-0.516455</td>\n",
       "      <td>-0.039533</td>\n",
       "      <td>0.177552</td>\n",
       "    </tr>\n",
       "    <tr>\n",
       "      <th>Quality of Sleep</th>\n",
       "      <td>-0.291366</td>\n",
       "      <td>0.473734</td>\n",
       "      <td>-0.278071</td>\n",
       "      <td>0.883213</td>\n",
       "      <td>1.000000</td>\n",
       "      <td>0.192896</td>\n",
       "      <td>-0.898752</td>\n",
       "      <td>-0.303876</td>\n",
       "      <td>-0.659865</td>\n",
       "      <td>0.016791</td>\n",
       "      <td>0.179592</td>\n",
       "    </tr>\n",
       "    <tr>\n",
       "      <th>Physical Activity Level</th>\n",
       "      <td>0.001454</td>\n",
       "      <td>0.178993</td>\n",
       "      <td>-0.103660</td>\n",
       "      <td>0.212360</td>\n",
       "      <td>0.192896</td>\n",
       "      <td>1.000000</td>\n",
       "      <td>-0.034134</td>\n",
       "      <td>0.075508</td>\n",
       "      <td>0.136971</td>\n",
       "      <td>0.772723</td>\n",
       "      <td>0.433214</td>\n",
       "    </tr>\n",
       "    <tr>\n",
       "      <th>Stress Level</th>\n",
       "      <td>0.396018</td>\n",
       "      <td>-0.422344</td>\n",
       "      <td>0.021123</td>\n",
       "      <td>-0.811023</td>\n",
       "      <td>-0.898752</td>\n",
       "      <td>-0.034134</td>\n",
       "      <td>1.000000</td>\n",
       "      <td>0.163665</td>\n",
       "      <td>0.670026</td>\n",
       "      <td>0.186829</td>\n",
       "      <td>-0.036058</td>\n",
       "    </tr>\n",
       "    <tr>\n",
       "      <th>BMI Category</th>\n",
       "      <td>-0.339945</td>\n",
       "      <td>0.523881</td>\n",
       "      <td>0.694390</td>\n",
       "      <td>-0.377637</td>\n",
       "      <td>-0.303876</td>\n",
       "      <td>0.075508</td>\n",
       "      <td>0.163665</td>\n",
       "      <td>1.000000</td>\n",
       "      <td>0.248550</td>\n",
       "      <td>0.015949</td>\n",
       "      <td>0.013629</td>\n",
       "    </tr>\n",
       "    <tr>\n",
       "      <th>Heart Rate</th>\n",
       "      <td>0.217105</td>\n",
       "      <td>-0.225606</td>\n",
       "      <td>0.043928</td>\n",
       "      <td>-0.516455</td>\n",
       "      <td>-0.659865</td>\n",
       "      <td>0.136971</td>\n",
       "      <td>0.670026</td>\n",
       "      <td>0.248550</td>\n",
       "      <td>1.000000</td>\n",
       "      <td>-0.030309</td>\n",
       "      <td>0.205987</td>\n",
       "    </tr>\n",
       "    <tr>\n",
       "      <th>Daily Steps</th>\n",
       "      <td>-0.014509</td>\n",
       "      <td>0.057973</td>\n",
       "      <td>-0.105877</td>\n",
       "      <td>-0.039533</td>\n",
       "      <td>0.016791</td>\n",
       "      <td>0.772723</td>\n",
       "      <td>0.186829</td>\n",
       "      <td>0.015949</td>\n",
       "      <td>-0.030309</td>\n",
       "      <td>1.000000</td>\n",
       "      <td>0.342098</td>\n",
       "    </tr>\n",
       "    <tr>\n",
       "      <th>Sleep Disorder</th>\n",
       "      <td>-0.253415</td>\n",
       "      <td>0.232000</td>\n",
       "      <td>-0.169800</td>\n",
       "      <td>0.177552</td>\n",
       "      <td>0.179592</td>\n",
       "      <td>0.433214</td>\n",
       "      <td>-0.036058</td>\n",
       "      <td>0.013629</td>\n",
       "      <td>0.205987</td>\n",
       "      <td>0.342098</td>\n",
       "      <td>1.000000</td>\n",
       "    </tr>\n",
       "  </tbody>\n",
       "</table>\n",
       "</div>"
      ],
      "text/plain": [
       "                           Gender       Age  Occupation  Sleep Duration  \\\n",
       "Gender                   1.000000 -0.596358   -0.219113       -0.121579   \n",
       "Age                     -0.596358  1.000000    0.231188        0.344709   \n",
       "Occupation              -0.219113  0.231188    1.000000       -0.325775   \n",
       "Sleep Duration          -0.121579  0.344709   -0.325775        1.000000   \n",
       "Quality of Sleep        -0.291366  0.473734   -0.278071        0.883213   \n",
       "Physical Activity Level  0.001454  0.178993   -0.103660        0.212360   \n",
       "Stress Level             0.396018 -0.422344    0.021123       -0.811023   \n",
       "BMI Category            -0.339945  0.523881    0.694390       -0.377637   \n",
       "Heart Rate               0.217105 -0.225606    0.043928       -0.516455   \n",
       "Daily Steps             -0.014509  0.057973   -0.105877       -0.039533   \n",
       "Sleep Disorder          -0.253415  0.232000   -0.169800        0.177552   \n",
       "\n",
       "                         Quality of Sleep  Physical Activity Level  \\\n",
       "Gender                          -0.291366                 0.001454   \n",
       "Age                              0.473734                 0.178993   \n",
       "Occupation                      -0.278071                -0.103660   \n",
       "Sleep Duration                   0.883213                 0.212360   \n",
       "Quality of Sleep                 1.000000                 0.192896   \n",
       "Physical Activity Level          0.192896                 1.000000   \n",
       "Stress Level                    -0.898752                -0.034134   \n",
       "BMI Category                    -0.303876                 0.075508   \n",
       "Heart Rate                      -0.659865                 0.136971   \n",
       "Daily Steps                      0.016791                 0.772723   \n",
       "Sleep Disorder                   0.179592                 0.433214   \n",
       "\n",
       "                         Stress Level  BMI Category  Heart Rate  Daily Steps  \\\n",
       "Gender                       0.396018     -0.339945    0.217105    -0.014509   \n",
       "Age                         -0.422344      0.523881   -0.225606     0.057973   \n",
       "Occupation                   0.021123      0.694390    0.043928    -0.105877   \n",
       "Sleep Duration              -0.811023     -0.377637   -0.516455    -0.039533   \n",
       "Quality of Sleep            -0.898752     -0.303876   -0.659865     0.016791   \n",
       "Physical Activity Level     -0.034134      0.075508    0.136971     0.772723   \n",
       "Stress Level                 1.000000      0.163665    0.670026     0.186829   \n",
       "BMI Category                 0.163665      1.000000    0.248550     0.015949   \n",
       "Heart Rate                   0.670026      0.248550    1.000000    -0.030309   \n",
       "Daily Steps                  0.186829      0.015949   -0.030309     1.000000   \n",
       "Sleep Disorder              -0.036058      0.013629    0.205987     0.342098   \n",
       "\n",
       "                         Sleep Disorder  \n",
       "Gender                        -0.253415  \n",
       "Age                            0.232000  \n",
       "Occupation                    -0.169800  \n",
       "Sleep Duration                 0.177552  \n",
       "Quality of Sleep               0.179592  \n",
       "Physical Activity Level        0.433214  \n",
       "Stress Level                  -0.036058  \n",
       "BMI Category                   0.013629  \n",
       "Heart Rate                     0.205987  \n",
       "Daily Steps                    0.342098  \n",
       "Sleep Disorder                 1.000000  "
      ]
     },
     "execution_count": 29,
     "metadata": {},
     "output_type": "execute_result"
    }
   ],
   "source": [
    "df.corr()"
   ]
  },
  {
   "cell_type": "markdown",
   "metadata": {},
   "source": [
    "###### Plotting the correlation matrix - Heatmap"
   ]
  },
  {
   "cell_type": "code",
   "execution_count": 30,
   "metadata": {
    "scrolled": true
   },
   "outputs": [
    {
     "data": {
      "image/png": "[encoded data removed]",
      "text/plain": [
       "<Figure size 864x864 with 2 Axes>"
      ]
     },
     "metadata": {
      "needs_background": "light"
     },
     "output_type": "display_data"
    }
   ],
   "source": [
    "plt.figure(figsize=(12,12))\n",
    "sns.heatmap(df.corr(), annot = True, cmap = 'twilight')\n",
    "display\n",
    "plt.show()"
   ]
  },
  {
   "cell_type": "markdown",
   "metadata": {},
   "source": [
    "## Sleep Disorder Prediction Model\n"
   ]
  },
  {
   "cell_type": "markdown",
   "metadata": {},
   "source": [
    "### Spliting Input and Output features"
   ]
  },
  {
   "cell_type": "markdown",
   "metadata": {},
   "source": [
    "Selecting \"Sleep Disorder\" as our Output label and all the other columns (features) as our Input datapoints."
   ]
  },
  {
   "cell_type": "code",
   "execution_count": 31,
   "metadata": {},
   "outputs": [],
   "source": [
    "X = df.drop(columns= 'Sleep Disorder', axis=1)\n",
    "Y = df['Sleep Disorder']"
   ]
  },
  {
   "cell_type": "markdown",
   "metadata": {},
   "source": [
    "### Train-Test Split"
   ]
  },
  {
   "cell_type": "code",
   "execution_count": 32,
   "metadata": {},
   "outputs": [],
   "source": [
    "# Import Library\n",
    "\n",
    "from sklearn.model_selection import train_test_split"
   ]
  },
  {
   "cell_type": "code",
   "execution_count": 33,
   "metadata": {},
   "outputs": [],
   "source": [
    "X_train, X_test, Y_train, Y_test = train_test_split(X, Y, test_size=0.2, random_state=3)"
   ]
  },
  {
   "cell_type": "code",
   "execution_count": 34,
   "metadata": {},
   "outputs": [
    {
     "data": {
      "text/plain": [
       "((374, 12), (299, 12), (75, 12))"
      ]
     },
     "execution_count": 34,
     "metadata": {},
     "output_type": "execute_result"
    }
   ],
   "source": [
    "X.shape, X_train.shape, X_test.shape"
   ]
  },
  {
   "cell_type": "markdown",
   "metadata": {},
   "source": [
    "### Apply Model"
   ]
  },
  {
   "cell_type": "markdown",
   "metadata": {},
   "source": [
    "For the classification of Sleeping Disorder problem, we will apply below classifiers:\n",
    "- Decision Tree Classifier\n",
    "- Random Forest Classifier"
   ]
  },
  {
   "cell_type": "markdown",
   "metadata": {},
   "source": [
    "## Decision Tree Classifier"
   ]
  },
  {
   "cell_type": "code",
   "execution_count": 35,
   "metadata": {},
   "outputs": [],
   "source": [
    "# Importing Decision Tree Classifier\n",
    "\n",
    "from sklearn.tree import DecisionTreeClassifier"
   ]
  },
  {
   "cell_type": "code",
   "execution_count": 36,
   "metadata": {},
   "outputs": [],
   "source": [
    "DTC = DecisionTreeClassifier()"
   ]
  },
  {
   "cell_type": "code",
   "execution_count": 37,
   "metadata": {},
   "outputs": [
    {
     "data": {
      "text/html": [
       "<style>#sk-container-id-1 {color: black;}#sk-container-id-1 pre{padding: 0;}#sk-container-id-1 div.sk-toggleable {background-color: white;}#sk-container-id-1 label.sk-toggleable__label {cursor: pointer;display: block;width: 100%;margin-bottom: 0;padding: 0.3em;box-sizing: border-box;text-align: center;}#sk-container-id-1 label.sk-toggleable__label-arrow:before {content: \"▸\";float: left;margin-right: 0.25em;color: #696969;}#sk-container-id-1 label.sk-toggleable__label-arrow:hover:before {color: black;}#sk-container-id-1 div.sk-estimator:hover label.sk-toggleable__label-arrow:before {color: black;}#sk-container-id-1 div.sk-toggleable__content {max-height: 0;max-width: 0;overflow: hidden;text-align: left;background-color: #f0f8ff;}#sk-container-id-1 div.sk-toggleable__content pre {margin: 0.2em;color: black;border-radius: 0.25em;background-color: #f0f8ff;}#sk-container-id-1 input.sk-toggleable__control:checked~div.sk-toggleable__content {max-height: 200px;max-width: 100%;overflow: auto;}#sk-container-id-1 input.sk-toggleable__control:checked~label.sk-toggleable__label-arrow:before {content: \"▾\";}#sk-container-id-1 div.sk-estimator input.sk-toggleable__control:checked~label.sk-toggleable__label {background-color: #d4ebff;}#sk-container-id-1 div.sk-label input.sk-toggleable__control:checked~label.sk-toggleable__label {background-color: #d4ebff;}#sk-container-id-1 input.sk-hidden--visually {border: 0;clip: rect(1px 1px 1px 1px);clip: rect(1px, 1px, 1px, 1px);height: 1px;margin: -1px;overflow: hidden;padding: 0;position: absolute;width: 1px;}#sk-container-id-1 div.sk-estimator {font-family: monospace;background-color: #f0f8ff;border: 1px dotted black;border-radius: 0.25em;box-sizing: border-box;margin-bottom: 0.5em;}#sk-container-id-1 div.sk-estimator:hover {background-color: #d4ebff;}#sk-container-id-1 div.sk-parallel-item::after {content: \"\";width: 100%;border-bottom: 1px solid gray;flex-grow: 1;}#sk-container-id-1 div.sk-label:hover label.sk-toggleable__label {background-color: #d4ebff;}#sk-container-id-1 div.sk-serial::before {content: \"\";position: absolute;border-left: 1px solid gray;box-sizing: border-box;top: 0;bottom: 0;left: 50%;z-index: 0;}#sk-container-id-1 div.sk-serial {display: flex;flex-direction: column;align-items: center;background-color: white;padding-right: 0.2em;padding-left: 0.2em;position: relative;}#sk-container-id-1 div.sk-item {position: relative;z-index: 1;}#sk-container-id-1 div.sk-parallel {display: flex;align-items: stretch;justify-content: center;background-color: white;position: relative;}#sk-container-id-1 div.sk-item::before, #sk-container-id-1 div.sk-parallel-item::before {content: \"\";position: absolute;border-left: 1px solid gray;box-sizing: border-box;top: 0;bottom: 0;left: 50%;z-index: -1;}#sk-container-id-1 div.sk-parallel-item {display: flex;flex-direction: column;z-index: 1;position: relative;background-color: white;}#sk-container-id-1 div.sk-parallel-item:first-child::after {align-self: flex-end;width: 50%;}#sk-container-id-1 div.sk-parallel-item:last-child::after {align-self: flex-start;width: 50%;}#sk-container-id-1 div.sk-parallel-item:only-child::after {width: 0;}#sk-container-id-1 div.sk-dashed-wrapped {border: 1px dashed gray;margin: 0 0.4em 0.5em 0.4em;box-sizing: border-box;padding-bottom: 0.4em;background-color: white;}#sk-container-id-1 div.sk-label label {font-family: monospace;font-weight: bold;display: inline-block;line-height: 1.2em;}#sk-container-id-1 div.sk-label-container {text-align: center;}#sk-container-id-1 div.sk-container {/* jupyter's `normalize.less` sets `[hidden] { display: none; }` but bootstrap.min.css set `[hidden] { display: none !important; }` so we also need the `!important` here to be able to override the default hidden behavior on the sphinx rendered scikit-learn.org. See: https://github.com/scikit-learn/scikit-learn/issues/21755 */display: inline-block !important;position: relative;}#sk-container-id-1 div.sk-text-repr-fallback {display: none;}</style><div id=\"sk-container-id-1\" class=\"sk-top-container\"><div class=\"sk-text-repr-fallback\"><pre>DecisionTreeClassifier()</pre><b>In a Jupyter environment, please rerun this cell to show the HTML representation or trust the notebook. <br />On GitHub, the HTML representation is unable to render, please try loading this page with nbviewer.org.</b></div><div class=\"sk-container\" hidden><div class=\"sk-item\"><div class=\"sk-estimator sk-toggleable\"><input class=\"sk-toggleable__control sk-hidden--visually\" id=\"sk-estimator-id-1\" type=\"checkbox\" checked><label for=\"sk-estimator-id-1\" class=\"sk-toggleable__label sk-toggleable__label-arrow\">DecisionTreeClassifier</label><div class=\"sk-toggleable__content\"><pre>DecisionTreeClassifier()</pre></div></div></div></div></div>"
      ],
      "text/plain": [
       "DecisionTreeClassifier()"
      ]
     },
     "execution_count": 37,
     "metadata": {},
     "output_type": "execute_result"
    }
   ],
   "source": [
    "# Fit model to training data\n",
    "DTC.fit(X_train, Y_train)"
   ]
  },
  {
   "cell_type": "code",
   "execution_count": 38,
   "metadata": {},
   "outputs": [],
   "source": [
    "# Predict the data\n",
    "\n",
    "Y_pred = DTC.predict(X_test)"
   ]
  },
  {
   "cell_type": "code",
   "execution_count": 39,
   "metadata": {},
   "outputs": [
    {
     "data": {
      "text/plain": [
       "array([1, 1, 1, 1, 1])"
      ]
     },
     "execution_count": 39,
     "metadata": {},
     "output_type": "execute_result"
    }
   ],
   "source": [
    "Y_pred[:5]"
   ]
  },
  {
   "cell_type": "code",
   "execution_count": 40,
   "metadata": {},
   "outputs": [
    {
     "data": {
      "text/plain": [
       "134    1\n",
       "323    1\n",
       "336    1\n",
       "55     1\n",
       "314    1\n",
       "Name: Sleep Disorder, dtype: int32"
      ]
     },
     "execution_count": 40,
     "metadata": {},
     "output_type": "execute_result"
    }
   ],
   "source": [
    "Y_test[:5]"
   ]
  },
  {
   "cell_type": "code",
   "execution_count": 41,
   "metadata": {},
   "outputs": [
    {
     "data": {
      "text/html": [
       "<div>\n",
       "<style scoped>\n",
       "    .dataframe tbody tr th:only-of-type {\n",
       "        vertical-align: middle;\n",
       "    }\n",
       "\n",
       "    .dataframe tbody tr th {\n",
       "        vertical-align: top;\n",
       "    }\n",
       "\n",
       "    .dataframe thead th {\n",
       "        text-align: right;\n",
       "    }\n",
       "</style>\n",
       "<table border=\"1\" class=\"dataframe\">\n",
       "  <thead>\n",
       "    <tr style=\"text-align: right;\">\n",
       "      <th></th>\n",
       "      <th>Actual Data (Y_test)</th>\n",
       "      <th>Predicted Data (Y_pred)</th>\n",
       "    </tr>\n",
       "  </thead>\n",
       "  <tbody>\n",
       "    <tr>\n",
       "      <th>134</th>\n",
       "      <td>1</td>\n",
       "      <td>1</td>\n",
       "    </tr>\n",
       "    <tr>\n",
       "      <th>323</th>\n",
       "      <td>1</td>\n",
       "      <td>1</td>\n",
       "    </tr>\n",
       "    <tr>\n",
       "      <th>336</th>\n",
       "      <td>1</td>\n",
       "      <td>1</td>\n",
       "    </tr>\n",
       "    <tr>\n",
       "      <th>55</th>\n",
       "      <td>1</td>\n",
       "      <td>1</td>\n",
       "    </tr>\n",
       "    <tr>\n",
       "      <th>314</th>\n",
       "      <td>1</td>\n",
       "      <td>1</td>\n",
       "    </tr>\n",
       "    <tr>\n",
       "      <th>101</th>\n",
       "      <td>1</td>\n",
       "      <td>1</td>\n",
       "    </tr>\n",
       "    <tr>\n",
       "      <th>227</th>\n",
       "      <td>0</td>\n",
       "      <td>0</td>\n",
       "    </tr>\n",
       "    <tr>\n",
       "      <th>123</th>\n",
       "      <td>1</td>\n",
       "      <td>1</td>\n",
       "    </tr>\n",
       "    <tr>\n",
       "      <th>15</th>\n",
       "      <td>1</td>\n",
       "      <td>1</td>\n",
       "    </tr>\n",
       "    <tr>\n",
       "      <th>40</th>\n",
       "      <td>1</td>\n",
       "      <td>1</td>\n",
       "    </tr>\n",
       "    <tr>\n",
       "      <th>193</th>\n",
       "      <td>0</td>\n",
       "      <td>0</td>\n",
       "    </tr>\n",
       "    <tr>\n",
       "      <th>24</th>\n",
       "      <td>1</td>\n",
       "      <td>1</td>\n",
       "    </tr>\n",
       "    <tr>\n",
       "      <th>271</th>\n",
       "      <td>2</td>\n",
       "      <td>2</td>\n",
       "    </tr>\n",
       "    <tr>\n",
       "      <th>16</th>\n",
       "      <td>2</td>\n",
       "      <td>0</td>\n",
       "    </tr>\n",
       "    <tr>\n",
       "      <th>276</th>\n",
       "      <td>2</td>\n",
       "      <td>2</td>\n",
       "    </tr>\n",
       "    <tr>\n",
       "      <th>155</th>\n",
       "      <td>1</td>\n",
       "      <td>1</td>\n",
       "    </tr>\n",
       "    <tr>\n",
       "      <th>255</th>\n",
       "      <td>0</td>\n",
       "      <td>0</td>\n",
       "    </tr>\n",
       "    <tr>\n",
       "      <th>144</th>\n",
       "      <td>2</td>\n",
       "      <td>1</td>\n",
       "    </tr>\n",
       "    <tr>\n",
       "      <th>189</th>\n",
       "      <td>0</td>\n",
       "      <td>0</td>\n",
       "    </tr>\n",
       "    <tr>\n",
       "      <th>37</th>\n",
       "      <td>1</td>\n",
       "      <td>1</td>\n",
       "    </tr>\n",
       "    <tr>\n",
       "      <th>296</th>\n",
       "      <td>2</td>\n",
       "      <td>2</td>\n",
       "    </tr>\n",
       "    <tr>\n",
       "      <th>339</th>\n",
       "      <td>2</td>\n",
       "      <td>2</td>\n",
       "    </tr>\n",
       "    <tr>\n",
       "      <th>238</th>\n",
       "      <td>0</td>\n",
       "      <td>0</td>\n",
       "    </tr>\n",
       "    <tr>\n",
       "      <th>211</th>\n",
       "      <td>1</td>\n",
       "      <td>1</td>\n",
       "    </tr>\n",
       "    <tr>\n",
       "      <th>73</th>\n",
       "      <td>1</td>\n",
       "      <td>1</td>\n",
       "    </tr>\n",
       "  </tbody>\n",
       "</table>\n",
       "</div>"
      ],
      "text/plain": [
       "     Actual Data (Y_test)  Predicted Data (Y_pred)\n",
       "134                     1                        1\n",
       "323                     1                        1\n",
       "336                     1                        1\n",
       "55                      1                        1\n",
       "314                     1                        1\n",
       "101                     1                        1\n",
       "227                     0                        0\n",
       "123                     1                        1\n",
       "15                      1                        1\n",
       "40                      1                        1\n",
       "193                     0                        0\n",
       "24                      1                        1\n",
       "271                     2                        2\n",
       "16                      2                        0\n",
       "276                     2                        2\n",
       "155                     1                        1\n",
       "255                     0                        0\n",
       "144                     2                        1\n",
       "189                     0                        0\n",
       "37                      1                        1\n",
       "296                     2                        2\n",
       "339                     2                        2\n",
       "238                     0                        0\n",
       "211                     1                        1\n",
       "73                      1                        1"
      ]
     },
     "execution_count": 41,
     "metadata": {},
     "output_type": "execute_result"
    }
   ],
   "source": [
    "# Dataframe to compare the predicted data by model and the actual data \n",
    "#(Sleep Disorder - 0:'Insomnia', 1: 'Sleep Apnea', 2: 'None')\n",
    "\n",
    "df_compare = pd.DataFrame({'Actual Data (Y_test)': Y_test,\n",
    "                           'Predicted Data (Y_pred)': Y_pred})\n",
    "df_compare[:25]"
   ]
  },
  {
   "cell_type": "markdown",
   "metadata": {},
   "source": [
    "### Model Evaluation"
   ]
  },
  {
   "cell_type": "code",
   "execution_count": 42,
   "metadata": {},
   "outputs": [],
   "source": [
    "# Accuracy score of a model (for test data)\n",
    "\n",
    "from sklearn.metrics import accuracy_score"
   ]
  },
  {
   "cell_type": "code",
   "execution_count": 43,
   "metadata": {},
   "outputs": [
    {
     "data": {
      "text/plain": [
       "0.88"
      ]
     },
     "execution_count": 43,
     "metadata": {},
     "output_type": "execute_result"
    }
   ],
   "source": [
    "accuracy_score(Y_test, Y_pred)"
   ]
  },
  {
   "cell_type": "markdown",
   "metadata": {},
   "source": [
    "##### Plotting Confusion Matrix for accuracy of the model using Heatmap (Decision Tree Classifier)"
   ]
  },
  {
   "cell_type": "markdown",
   "metadata": {},
   "source": [
    "Let’s check the accuracy of the model using the confusion matrix and print the classification report of our machine learning model:"
   ]
  },
  {
   "cell_type": "code",
   "execution_count": 44,
   "metadata": {},
   "outputs": [],
   "source": [
    "from sklearn.metrics import confusion_matrix"
   ]
  },
  {
   "cell_type": "code",
   "execution_count": 45,
   "metadata": {},
   "outputs": [
    {
     "data": {
      "image/png": "[encoded data removed]",
      "text/plain": [
       "<Figure size 504x504 with 2 Axes>"
      ]
     },
     "metadata": {
      "needs_background": "light"
     },
     "output_type": "display_data"
    }
   ],
   "source": [
    "plt.figure(figsize=(7,7))\n",
    "\n",
    "sns.heatmap(confusion_matrix(Y_test, Y_pred), annot= True, cmap = 'Oranges')\n",
    "\n",
    "plt.title(\"Confusion Matrix for Accuracy of the Model\", fontdict= {'family':'fantasy','size':18})\n",
    "plt.xlabel(\"Actual\", fontdict = {'family': 'fantasy','size':15})\n",
    "plt.ylabel(\"Predicted\", fontdict = {'family': 'fantasy','size':15})\n",
    "\n",
    "plt.show()"
   ]
  },
  {
   "cell_type": "markdown",
   "metadata": {},
   "source": [
    "The diagonal boxes shows the count of \"True Positive\" values, i.e. the correct predictions made by the model. And the off-diagonal boxes shows the count of false positive values, i.e. the incorrect predictions made by the model."
   ]
  },
  {
   "cell_type": "markdown",
   "metadata": {},
   "source": [
    "### Plotting the Actal and Predicted Values using Distribution Plot"
   ]
  },
  {
   "cell_type": "code",
   "execution_count": 46,
   "metadata": {},
   "outputs": [
    {
     "data": {
      "image/png": "[encoded data removed]",
      "text/plain": [
       "<Figure size 504x504 with 1 Axes>"
      ]
     },
     "metadata": {
      "needs_background": "light"
     },
     "output_type": "display_data"
    }
   ],
   "source": [
    "plt.figure(figsize=(7,7))\n",
    "sns.distplot(Y_test, hist=False,color='#D21F3C',kde_kws=dict(linewidth=3.5), label= 'Actual Value') #dark pink \n",
    "sns.distplot(Y_pred, hist=False,color='#ff9999',kde_kws=dict(linewidth=3.5), label= 'Predicted Value') #lightpink \n",
    "\n",
    "plt.title('Actual vs Predicted Values',  fontdict= {'family':'fantasy','size':18})\n",
    "plt.xlabel('Sleep Disorder Class', fontdict = {'family': 'fantasy','size':15})\n",
    "plt.ylabel('Proportion of the People', fontdict = {'family': 'fantasy','size':15})\n",
    "\n",
    "plt.show()"
   ]
  },
  {
   "cell_type": "markdown",
   "metadata": {},
   "source": [
    "The \"Actual Values\" are represented with \"Purple\" color and the \"Predicted Values\" are represented with \"Green\" color. \n",
    "\n",
    "In the plot above, the model's prediction is able to follow the curve of the actual values but some of the predicted values are still different from the actual ones."
   ]
  },
  {
   "cell_type": "markdown",
   "metadata": {},
   "source": [
    "### Observation"
   ]
  },
  {
   "cell_type": "markdown",
   "metadata": {},
   "source": [
    "The Decision Tree Classifier model have predicted data for \"Sleeping Disorder Problem\" with pretty good accuracy of 88%. "
   ]
  },
  {
   "cell_type": "markdown",
   "metadata": {},
   "source": [
    "## Random Forest Classifier"
   ]
  },
  {
   "cell_type": "code",
   "execution_count": 47,
   "metadata": {},
   "outputs": [],
   "source": [
    "# Importing the class\n",
    "\n",
    "from sklearn.ensemble import RandomForestClassifier"
   ]
  },
  {
   "cell_type": "code",
   "execution_count": 48,
   "metadata": {},
   "outputs": [],
   "source": [
    "RFC = RandomForestClassifier()"
   ]
  },
  {
   "cell_type": "code",
   "execution_count": 49,
   "metadata": {},
   "outputs": [
    {
     "data": {
      "text/html": [
       "<style>#sk-container-id-2 {color: black;}#sk-container-id-2 pre{padding: 0;}#sk-container-id-2 div.sk-toggleable {background-color: white;}#sk-container-id-2 label.sk-toggleable__label {cursor: pointer;display: block;width: 100%;margin-bottom: 0;padding: 0.3em;box-sizing: border-box;text-align: center;}#sk-container-id-2 label.sk-toggleable__label-arrow:before {content: \"▸\";float: left;margin-right: 0.25em;color: #696969;}#sk-container-id-2 label.sk-toggleable__label-arrow:hover:before {color: black;}#sk-container-id-2 div.sk-estimator:hover label.sk-toggleable__label-arrow:before {color: black;}#sk-container-id-2 div.sk-toggleable__content {max-height: 0;max-width: 0;overflow: hidden;text-align: left;background-color: #f0f8ff;}#sk-container-id-2 div.sk-toggleable__content pre {margin: 0.2em;color: black;border-radius: 0.25em;background-color: #f0f8ff;}#sk-container-id-2 input.sk-toggleable__control:checked~div.sk-toggleable__content {max-height: 200px;max-width: 100%;overflow: auto;}#sk-container-id-2 input.sk-toggleable__control:checked~label.sk-toggleable__label-arrow:before {content: \"▾\";}#sk-container-id-2 div.sk-estimator input.sk-toggleable__control:checked~label.sk-toggleable__label {background-color: #d4ebff;}#sk-container-id-2 div.sk-label input.sk-toggleable__control:checked~label.sk-toggleable__label {background-color: #d4ebff;}#sk-container-id-2 input.sk-hidden--visually {border: 0;clip: rect(1px 1px 1px 1px);clip: rect(1px, 1px, 1px, 1px);height: 1px;margin: -1px;overflow: hidden;padding: 0;position: absolute;width: 1px;}#sk-container-id-2 div.sk-estimator {font-family: monospace;background-color: #f0f8ff;border: 1px dotted black;border-radius: 0.25em;box-sizing: border-box;margin-bottom: 0.5em;}#sk-container-id-2 div.sk-estimator:hover {background-color: #d4ebff;}#sk-container-id-2 div.sk-parallel-item::after {content: \"\";width: 100%;border-bottom: 1px solid gray;flex-grow: 1;}#sk-container-id-2 div.sk-label:hover label.sk-toggleable__label {background-color: #d4ebff;}#sk-container-id-2 div.sk-serial::before {content: \"\";position: absolute;border-left: 1px solid gray;box-sizing: border-box;top: 0;bottom: 0;left: 50%;z-index: 0;}#sk-container-id-2 div.sk-serial {display: flex;flex-direction: column;align-items: center;background-color: white;padding-right: 0.2em;padding-left: 0.2em;position: relative;}#sk-container-id-2 div.sk-item {position: relative;z-index: 1;}#sk-container-id-2 div.sk-parallel {display: flex;align-items: stretch;justify-content: center;background-color: white;position: relative;}#sk-container-id-2 div.sk-item::before, #sk-container-id-2 div.sk-parallel-item::before {content: \"\";position: absolute;border-left: 1px solid gray;box-sizing: border-box;top: 0;bottom: 0;left: 50%;z-index: -1;}#sk-container-id-2 div.sk-parallel-item {display: flex;flex-direction: column;z-index: 1;position: relative;background-color: white;}#sk-container-id-2 div.sk-parallel-item:first-child::after {align-self: flex-end;width: 50%;}#sk-container-id-2 div.sk-parallel-item:last-child::after {align-self: flex-start;width: 50%;}#sk-container-id-2 div.sk-parallel-item:only-child::after {width: 0;}#sk-container-id-2 div.sk-dashed-wrapped {border: 1px dashed gray;margin: 0 0.4em 0.5em 0.4em;box-sizing: border-box;padding-bottom: 0.4em;background-color: white;}#sk-container-id-2 div.sk-label label {font-family: monospace;font-weight: bold;display: inline-block;line-height: 1.2em;}#sk-container-id-2 div.sk-label-container {text-align: center;}#sk-container-id-2 div.sk-container {/* jupyter's `normalize.less` sets `[hidden] { display: none; }` but bootstrap.min.css set `[hidden] { display: none !important; }` so we also need the `!important` here to be able to override the default hidden behavior on the sphinx rendered scikit-learn.org. See: https://github.com/scikit-learn/scikit-learn/issues/21755 */display: inline-block !important;position: relative;}#sk-container-id-2 div.sk-text-repr-fallback {display: none;}</style><div id=\"sk-container-id-2\" class=\"sk-top-container\"><div class=\"sk-text-repr-fallback\"><pre>RandomForestClassifier()</pre><b>In a Jupyter environment, please rerun this cell to show the HTML representation or trust the notebook. <br />On GitHub, the HTML representation is unable to render, please try loading this page with nbviewer.org.</b></div><div class=\"sk-container\" hidden><div class=\"sk-item\"><div class=\"sk-estimator sk-toggleable\"><input class=\"sk-toggleable__control sk-hidden--visually\" id=\"sk-estimator-id-2\" type=\"checkbox\" checked><label for=\"sk-estimator-id-2\" class=\"sk-toggleable__label sk-toggleable__label-arrow\">RandomForestClassifier</label><div class=\"sk-toggleable__content\"><pre>RandomForestClassifier()</pre></div></div></div></div></div>"
      ],
      "text/plain": [
       "RandomForestClassifier()"
      ]
     },
     "execution_count": 49,
     "metadata": {},
     "output_type": "execute_result"
    }
   ],
   "source": [
    "# Fitting model on training data\n",
    "RFC.fit(X_train, Y_train)"
   ]
  },
  {
   "cell_type": "code",
   "execution_count": 50,
   "metadata": {},
   "outputs": [],
   "source": [
    "# Predict test data\n",
    "\n",
    "Y_RFC_pred = RFC.predict(X_test)"
   ]
  },
  {
   "cell_type": "code",
   "execution_count": 51,
   "metadata": {},
   "outputs": [
    {
     "data": {
      "text/plain": [
       "array([1, 1, 1, 1, 1, 1, 0])"
      ]
     },
     "execution_count": 51,
     "metadata": {},
     "output_type": "execute_result"
    }
   ],
   "source": [
    "Y_RFC_pred[:7]"
   ]
  },
  {
   "cell_type": "code",
   "execution_count": 52,
   "metadata": {},
   "outputs": [
    {
     "data": {
      "text/plain": [
       "134    1\n",
       "323    1\n",
       "336    1\n",
       "55     1\n",
       "314    1\n",
       "101    1\n",
       "227    0\n",
       "Name: Sleep Disorder, dtype: int32"
      ]
     },
     "execution_count": 52,
     "metadata": {},
     "output_type": "execute_result"
    }
   ],
   "source": [
    "Y_test[:7]"
   ]
  },
  {
   "cell_type": "code",
   "execution_count": 53,
   "metadata": {},
   "outputs": [
    {
     "data": {
      "text/html": [
       "<div>\n",
       "<style scoped>\n",
       "    .dataframe tbody tr th:only-of-type {\n",
       "        vertical-align: middle;\n",
       "    }\n",
       "\n",
       "    .dataframe tbody tr th {\n",
       "        vertical-align: top;\n",
       "    }\n",
       "\n",
       "    .dataframe thead th {\n",
       "        text-align: right;\n",
       "    }\n",
       "</style>\n",
       "<table border=\"1\" class=\"dataframe\">\n",
       "  <thead>\n",
       "    <tr style=\"text-align: right;\">\n",
       "      <th></th>\n",
       "      <th>Actual Data (Y_test)</th>\n",
       "      <th>Predicted Data (Y_pred)</th>\n",
       "    </tr>\n",
       "  </thead>\n",
       "  <tbody>\n",
       "    <tr>\n",
       "      <th>134</th>\n",
       "      <td>1</td>\n",
       "      <td>1</td>\n",
       "    </tr>\n",
       "    <tr>\n",
       "      <th>323</th>\n",
       "      <td>1</td>\n",
       "      <td>1</td>\n",
       "    </tr>\n",
       "    <tr>\n",
       "      <th>336</th>\n",
       "      <td>1</td>\n",
       "      <td>1</td>\n",
       "    </tr>\n",
       "    <tr>\n",
       "      <th>55</th>\n",
       "      <td>1</td>\n",
       "      <td>1</td>\n",
       "    </tr>\n",
       "    <tr>\n",
       "      <th>314</th>\n",
       "      <td>1</td>\n",
       "      <td>1</td>\n",
       "    </tr>\n",
       "    <tr>\n",
       "      <th>101</th>\n",
       "      <td>1</td>\n",
       "      <td>1</td>\n",
       "    </tr>\n",
       "    <tr>\n",
       "      <th>227</th>\n",
       "      <td>0</td>\n",
       "      <td>0</td>\n",
       "    </tr>\n",
       "    <tr>\n",
       "      <th>123</th>\n",
       "      <td>1</td>\n",
       "      <td>1</td>\n",
       "    </tr>\n",
       "    <tr>\n",
       "      <th>15</th>\n",
       "      <td>1</td>\n",
       "      <td>1</td>\n",
       "    </tr>\n",
       "    <tr>\n",
       "      <th>40</th>\n",
       "      <td>1</td>\n",
       "      <td>1</td>\n",
       "    </tr>\n",
       "    <tr>\n",
       "      <th>193</th>\n",
       "      <td>0</td>\n",
       "      <td>0</td>\n",
       "    </tr>\n",
       "    <tr>\n",
       "      <th>24</th>\n",
       "      <td>1</td>\n",
       "      <td>1</td>\n",
       "    </tr>\n",
       "    <tr>\n",
       "      <th>271</th>\n",
       "      <td>2</td>\n",
       "      <td>2</td>\n",
       "    </tr>\n",
       "    <tr>\n",
       "      <th>16</th>\n",
       "      <td>2</td>\n",
       "      <td>0</td>\n",
       "    </tr>\n",
       "    <tr>\n",
       "      <th>276</th>\n",
       "      <td>2</td>\n",
       "      <td>2</td>\n",
       "    </tr>\n",
       "    <tr>\n",
       "      <th>155</th>\n",
       "      <td>1</td>\n",
       "      <td>1</td>\n",
       "    </tr>\n",
       "    <tr>\n",
       "      <th>255</th>\n",
       "      <td>0</td>\n",
       "      <td>0</td>\n",
       "    </tr>\n",
       "    <tr>\n",
       "      <th>144</th>\n",
       "      <td>2</td>\n",
       "      <td>1</td>\n",
       "    </tr>\n",
       "    <tr>\n",
       "      <th>189</th>\n",
       "      <td>0</td>\n",
       "      <td>0</td>\n",
       "    </tr>\n",
       "    <tr>\n",
       "      <th>37</th>\n",
       "      <td>1</td>\n",
       "      <td>1</td>\n",
       "    </tr>\n",
       "    <tr>\n",
       "      <th>296</th>\n",
       "      <td>2</td>\n",
       "      <td>2</td>\n",
       "    </tr>\n",
       "    <tr>\n",
       "      <th>339</th>\n",
       "      <td>2</td>\n",
       "      <td>2</td>\n",
       "    </tr>\n",
       "    <tr>\n",
       "      <th>238</th>\n",
       "      <td>0</td>\n",
       "      <td>0</td>\n",
       "    </tr>\n",
       "    <tr>\n",
       "      <th>211</th>\n",
       "      <td>1</td>\n",
       "      <td>1</td>\n",
       "    </tr>\n",
       "    <tr>\n",
       "      <th>73</th>\n",
       "      <td>1</td>\n",
       "      <td>1</td>\n",
       "    </tr>\n",
       "  </tbody>\n",
       "</table>\n",
       "</div>"
      ],
      "text/plain": [
       "     Actual Data (Y_test)  Predicted Data (Y_pred)\n",
       "134                     1                        1\n",
       "323                     1                        1\n",
       "336                     1                        1\n",
       "55                      1                        1\n",
       "314                     1                        1\n",
       "101                     1                        1\n",
       "227                     0                        0\n",
       "123                     1                        1\n",
       "15                      1                        1\n",
       "40                      1                        1\n",
       "193                     0                        0\n",
       "24                      1                        1\n",
       "271                     2                        2\n",
       "16                      2                        0\n",
       "276                     2                        2\n",
       "155                     1                        1\n",
       "255                     0                        0\n",
       "144                     2                        1\n",
       "189                     0                        0\n",
       "37                      1                        1\n",
       "296                     2                        2\n",
       "339                     2                        2\n",
       "238                     0                        0\n",
       "211                     1                        1\n",
       "73                      1                        1"
      ]
     },
     "execution_count": 53,
     "metadata": {},
     "output_type": "execute_result"
    }
   ],
   "source": [
    "# Dataframe to compare the predicted data by model and the actual data \n",
    "#(Sleep Disorder - 0:'Insomnia', 1: 'Sleep Apnea', 2: 'None')\n",
    "\n",
    "df_compare_RFC = pd.DataFrame({'Actual Data (Y_test)': Y_test,\n",
    "                           'Predicted Data (Y_pred)': Y_RFC_pred})\n",
    "df_compare_RFC[:25]"
   ]
  },
  {
   "cell_type": "markdown",
   "metadata": {},
   "source": [
    "### Model Evaluation"
   ]
  },
  {
   "cell_type": "code",
   "execution_count": 54,
   "metadata": {},
   "outputs": [],
   "source": [
    "# Accuracy score of a model (for test data)\n",
    "\n",
    "from sklearn.metrics import accuracy_score"
   ]
  },
  {
   "cell_type": "code",
   "execution_count": 55,
   "metadata": {},
   "outputs": [
    {
     "data": {
      "text/plain": [
       "0.91"
      ]
     },
     "execution_count": 55,
     "metadata": {},
     "output_type": "execute_result"
    }
   ],
   "source": [
    "accuracy_score(Y_test, Y_RFC_pred).round(2)"
   ]
  },
  {
   "cell_type": "markdown",
   "metadata": {},
   "source": [
    "##### Plotting Confusion Matrix for accuracy of the model using Heatmap (Random Forest Classifier)"
   ]
  },
  {
   "cell_type": "markdown",
   "metadata": {},
   "source": [
    "Let’s check the accuracy of the model using the confusion matrix and print the classification report of our machine learning model:"
   ]
  },
  {
   "cell_type": "code",
   "execution_count": 56,
   "metadata": {},
   "outputs": [
    {
     "data": {
      "image/png": "[encoded data removed]",
      "text/plain": [
       "<Figure size 504x504 with 2 Axes>"
      ]
     },
     "metadata": {
      "needs_background": "light"
     },
     "output_type": "display_data"
    }
   ],
   "source": [
    "plt.figure(figsize=(7,7))\n",
    "\n",
    "sns.heatmap(confusion_matrix(Y_test, Y_RFC_pred), annot= True, cmap = 'Oranges')\n",
    "\n",
    "plt.title(\"Confusion Matrix for Accuracy of the Model\", fontdict= {'family':'fantasy','size':18})\n",
    "plt.xlabel(\"Actual\", fontdict = {'family': 'fantasy','size':15})\n",
    "plt.ylabel(\"Predicted\", fontdict = {'family': 'fantasy','size':15})\n",
    "\n",
    "plt.show()"
   ]
  },
  {
   "cell_type": "markdown",
   "metadata": {},
   "source": [
    "The diagonal boxes shows the count of \"True Positive\" values, i.e. the correct predictions made by the model. And the off-diagonal boxes shows the count of false positive values, i.e. the incorrect predictions made by the model. #e5e500"
   ]
  },
  {
   "cell_type": "markdown",
   "metadata": {},
   "source": [
    "### Plotting the Actual and Predicted Values using Distribution Plot"
   ]
  },
  {
   "cell_type": "code",
   "execution_count": 57,
   "metadata": {},
   "outputs": [
    {
     "data": {
      "image/png": "[encoded data removed]",
      "text/plain": [
       "<Figure size 648x648 with 1 Axes>"
      ]
     },
     "metadata": {
      "needs_background": "light"
     },
     "output_type": "display_data"
    }
   ],
   "source": [
    "plt.figure(figsize=(9,9))\n",
    "sns.distplot(Y_test, hist=False,color='#666600',kde_kws=dict(linewidth=3.5), label= 'Actual Value') #brown\n",
    "sns.distplot(Y_RFC_pred, hist=False,color='#e5e500',kde_kws=dict(linewidth=3.5), label= 'Predicted Value') #yellow\n",
    "\n",
    "plt.title('Actual vs Predicted Values',  fontdict= {'family':'fantasy','size':18})\n",
    "plt.xlabel('Sleep Disorder Class', fontdict = {'family': 'fantasy','size':15})\n",
    "plt.ylabel('Proportion of the People', fontdict = {'family': 'fantasy','size':15})\n",
    "\n",
    "plt.show()"
   ]
  },
  {
   "cell_type": "markdown",
   "metadata": {},
   "source": [
    "The \"Actual Values\" are represented with \"Blue\" color and the \"Predicted Values\" are represented with \"Pink\" color. \n",
    "\n",
    "In the plot above, the model's prediction is able to follow the curve of the actual values but some of the predicted values are still different from the actual ones."
   ]
  },
  {
   "cell_type": "markdown",
   "metadata": {},
   "source": [
    "### Observation"
   ]
  },
  {
   "cell_type": "markdown",
   "metadata": {},
   "source": [
    "The Random Forest Classifier model have predicted data for \"Sleeping Disorder Problem\" with \"accuracy of 91%\", which is better than Decision Tree Classifier. "
   ]
  },
  {
   "cell_type": "code",
   "execution_count": null,
   "metadata": {},
   "outputs": [],
   "source": []
  }
 ],
 "metadata": {
  "kernelspec": {
   "display_name": "Python 3",
   "language": "python",
   "name": "python3"
  },
  "language_info": {
   "codemirror_mode": {
    "name": "ipython",
    "version": 3
   },
   "file_extension": ".py",
   "mimetype": "text/x-python",
   "name": "python",
   "nbconvert_exporter": "python",
   "pygments_lexer": "ipython3",
   "version": "3.8.5"
  }
 },
 "nbformat": 4,
 "nbformat_minor": 4
}
